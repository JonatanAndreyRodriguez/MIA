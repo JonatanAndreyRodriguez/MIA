{
  "cells": [
    {
      "cell_type": "markdown",
      "metadata": {
        "toc": true,
        "id": "hsvNkH4t9nca"
      },
      "source": [
        "<h1>Table of Contents<span class=\"tocSkip\"></span></h1>\n",
        "<div class=\"toc\"><ul class=\"toc-item\"><li><span><a href=\"#Actividad-2.-Preprocesado-de-datos-y-clasificación-binaria.\" data-toc-modified-id=\"Actividad-2.-Preprocesado-de-datos-y-clasificación-binaria.-1\"><span class=\"toc-item-num\">1&nbsp;&nbsp;</span>Actividad 2. Preprocesado de datos y clasificación binaria.</a></span><ul class=\"toc-item\"><li><span><a href=\"#Finalidad-de-la-práctica\" data-toc-modified-id=\"Finalidad-de-la-práctica-1.1\"><span class=\"toc-item-num\">1.1&nbsp;&nbsp;</span>Finalidad de la práctica</a></span></li><li><span><a href=\"#Característiscticas-del-dataset-usado\" data-toc-modified-id=\"Característiscticas-del-dataset-usado-1.2\"><span class=\"toc-item-num\">1.2&nbsp;&nbsp;</span>Característiscticas del dataset usado</a></span></li><li><span><a href=\"#Importación-del-dataset\" data-toc-modified-id=\"Importación-del-dataset-1.3\"><span class=\"toc-item-num\">1.3&nbsp;&nbsp;</span>Importación del dataset</a></span><ul class=\"toc-item\"><li><span><a href=\"#Primera-pregunta-(1-punto)\" data-toc-modified-id=\"Primera-pregunta-(1-punto)-1.3.1\"><span class=\"toc-item-num\">1.3.1&nbsp;&nbsp;</span>Primera pregunta (1 punto)</a></span></li><li><span><a href=\"#Por-lo-visto-en-el-dataset-anterior,-para--un-caso-de-regresión-logística-en-aprendizaje-supervisado,-¿qué-columnas-son-las-variables-que-podríamos-usar-para-realizar-la-clasificación-y-cuál-es-la-columna-que-indica-la-etiqueta-a-la-que-se-debe-apuntar?-Por-favor,-indíquelas.\" data-toc-modified-id=\"Por-lo-visto-en-el-dataset-anterior,-para--un-caso-de-regresión-logística-en-aprendizaje-supervisado,-¿qué-columnas-son-las-variables-que-podríamos-usar-para-realizar-la-clasificación-y-cuál-es-la-columna-que-indica-la-etiqueta-a-la-que-se-debe-apuntar?-Por-favor,-indíquelas.-1.3.2\"><span class=\"toc-item-num\">1.3.2&nbsp;&nbsp;</span>Por lo visto en el dataset anterior, para  un caso de regresión logística en aprendizaje supervisado, ¿qué columnas son las variables que podríamos usar para realizar la clasificación y cuál es la columna que indica la etiqueta a la que se debe apuntar? Por favor, indíquelas.</a></span></li><li><span><a href=\"#Segunda-pregunta-(1-punto)\" data-toc-modified-id=\"Segunda-pregunta-(1-punto)-1.3.3\"><span class=\"toc-item-num\">1.3.3&nbsp;&nbsp;</span>Segunda pregunta (1 punto)</a></span></li><li><span><a href=\"#Haciendo-uso-de-la-función-de-pandas-isnull().sum(),-compruebe-si-hay-missing_values-en-el-dataset-facilitado.\" data-toc-modified-id=\"Haciendo-uso-de-la-función-de-pandas-isnull().sum(),-compruebe-si-hay-missing_values-en-el-dataset-facilitado.-1.3.4\"><span class=\"toc-item-num\">1.3.4&nbsp;&nbsp;</span>Haciendo uso de la función de pandas <code>isnull().sum()</code>, compruebe si hay <code>missing_values</code> en el dataset facilitado.</a></span></li><li><span><a href=\"#Visualización-de-datos\" data-toc-modified-id=\"Visualización-de-datos-1.3.5\"><span class=\"toc-item-num\">1.3.5&nbsp;&nbsp;</span>Visualización de datos</a></span></li><li><span><a href=\"#Tercera-pregunta-(2-puntos)\" data-toc-modified-id=\"Tercera-pregunta-(2-puntos)-1.3.6\"><span class=\"toc-item-num\">1.3.6&nbsp;&nbsp;</span>Tercera pregunta (2 puntos)</a></span></li><li><span><a href=\"#a)-Haciendo-uso-de-df.hist(),-ejecute-las-siguientes-líneas-de-código.-(0.5-puntos)\" data-toc-modified-id=\"a)-Haciendo-uso-de-df.hist(),-ejecute-las-siguientes-líneas-de-código.-(0.5-puntos)-1.3.7\"><span class=\"toc-item-num\">1.3.7&nbsp;&nbsp;</span>a) Haciendo uso de <code>df.hist()</code>, ejecute las siguientes líneas de código. (0.5 puntos)</a></span></li><li><span><a href=\"#b)-Vemos-que-hay-algunas-características-del-dataset-que-tienen-un-valor-mínimo-sin-ningún-sentido-lógico.-¿Qué-características-o-variables-considera-que-habría-que-modificar-para-eliminar-esos-registros-nulos-que-carecen-de-sentido?-(0.5-puntos)\" data-toc-modified-id=\"b)-Vemos-que-hay-algunas-características-del-dataset-que-tienen-un-valor-mínimo-sin-ningún-sentido-lógico.-¿Qué-características-o-variables-considera-que-habría-que-modificar-para-eliminar-esos-registros-nulos-que-carecen-de-sentido?-(0.5-puntos)-1.3.8\"><span class=\"toc-item-num\">1.3.8&nbsp;&nbsp;</span>b) Vemos que hay algunas características del dataset que tienen un valor mínimo sin ningún sentido lógico. ¿Qué características o variables considera que habría que modificar para eliminar esos registros nulos que carecen de sentido? (0.5 puntos)</a></span></li><li><span><a href=\"#c)-¿Cuál-es-la-relación-$\\Gamma-=-\\frac{diabeticos}{\\neg-diabeticos}$?-¿Está-nuestro-dataset-balanceado?-Si-es-así,-justificar.-De-lo-contrario,-indicar-qué-clase-está-subrepresentada.-(0.5-puntos)\" data-toc-modified-id=\"c)-¿Cuál-es-la-relación-$\\Gamma-=-\\frac{diabeticos}{\\neg-diabeticos}$?-¿Está-nuestro-dataset-balanceado?-Si-es-así,-justificar.-De-lo-contrario,-indicar-qué-clase-está-subrepresentada.-(0.5-puntos)-1.3.9\"><span class=\"toc-item-num\">1.3.9&nbsp;&nbsp;</span>c) ¿Cuál es la relación $\\Gamma = \\frac{diabeticos}{\\neg diabeticos}$? ¿Está nuestro dataset balanceado? Si es así, justificar. De lo contrario, indicar qué clase está subrepresentada. (0.5 puntos)</a></span></li><li><span><a href=\"#d)-¿Qué-alternativas-de-actuación-sobre-el-dataset-propone-para-compensar-la-posible-subrepresentación-de-una-clase?-(0.5-puntos)\" data-toc-modified-id=\"d)-¿Qué-alternativas-de-actuación-sobre-el-dataset-propone-para-compensar-la-posible-subrepresentación-de-una-clase?-(0.5-puntos)-1.3.10\"><span class=\"toc-item-num\">1.3.10&nbsp;&nbsp;</span>d) ¿Qué alternativas de actuación sobre el dataset propone para compensar la posible subrepresentación de una clase? (0.5 puntos)</a></span></li></ul></li><li><span><a href=\"#Limpieza-y-procesado-de-datos\" data-toc-modified-id=\"Limpieza-y-procesado-de-datos-1.4\"><span class=\"toc-item-num\">1.4&nbsp;&nbsp;</span>Limpieza y procesado de datos</a></span><ul class=\"toc-item\"><li><span><a href=\"#Cuarta-pregunta-(1-puntos)\" data-toc-modified-id=\"Cuarta-pregunta-(1-puntos)-1.4.1\"><span class=\"toc-item-num\">1.4.1&nbsp;&nbsp;</span>Cuarta pregunta (1 puntos)</a></span></li><li><span><a href=\"#¿Cuál-es-el-porcentaje-de-datos-nulos-de-insulina-en-el-dataset-(en-la-columna-insuline)?-¿Ve-conveniente-eliminar-todas-aquellas-filas-donde-nos-falte-alguna-variable?-Justifique-su-respuesta.\" data-toc-modified-id=\"¿Cuál-es-el-porcentaje-de-datos-nulos-de-insulina-en-el-dataset-(en-la-columna-insuline)?-¿Ve-conveniente-eliminar-todas-aquellas-filas-donde-nos-falte-alguna-variable?-Justifique-su-respuesta.-1.4.2\"><span class=\"toc-item-num\">1.4.2&nbsp;&nbsp;</span>¿Cuál es el porcentaje de datos nulos de insulina en el dataset (en la columna <code>insuline</code>)? ¿Ve conveniente eliminar todas aquellas filas donde nos falte alguna variable? Justifique su respuesta.</a></span></li><li><span><a href=\"#Quinta-pregunta-(1-puntos)\" data-toc-modified-id=\"Quinta-pregunta-(1-puntos)-1.4.3\"><span class=\"toc-item-num\">1.4.3&nbsp;&nbsp;</span>Quinta pregunta (1 puntos)</a></span></li><li><span><a href=\"#a)-Realice-la-sustitución-indicada-arriba-por-la-mediana-en-todas-aquellas-variables-que-considere-que-contienen-valores-sin-sentido-(en-relación-con-la-pregunta-3.b.)-(5-puntos)\" data-toc-modified-id=\"a)-Realice-la-sustitución-indicada-arriba-por-la-mediana-en-todas-aquellas-variables-que-considere-que-contienen-valores-sin-sentido-(en-relación-con-la-pregunta-3.b.)-(5-puntos)-1.4.4\"><span class=\"toc-item-num\">1.4.4&nbsp;&nbsp;</span>a) Realice la sustitución indicada arriba por la mediana en todas aquellas variables que considere que contienen valores sin sentido (en relación con la pregunta 3.b.) (5 puntos)</a></span></li><li><span><a href=\"#b)-Vuelva-a-ejecutar-el-comando-diabetes.describe().-¿Cuál-es-la-única-variable-que-debe-tener-como-valor-mínimo-$0$-tras-haber-hecho-la-sustitución-de-los-valores-nulos-por-su-mediana?-(0,5-puntos)\" data-toc-modified-id=\"b)-Vuelva-a-ejecutar-el-comando-diabetes.describe().-¿Cuál-es-la-única-variable-que-debe-tener-como-valor-mínimo-$0$-tras-haber-hecho-la-sustitución-de-los-valores-nulos-por-su-mediana?-(0,5-puntos)-1.4.5\"><span class=\"toc-item-num\">1.4.5&nbsp;&nbsp;</span>b) Vuelva a ejecutar el comando <code>diabetes.describe()</code>. ¿Cuál es la única variable que debe tener como valor mínimo $0$ tras haber hecho la sustitución de los valores nulos por su mediana? (0,5 puntos)</a></span></li><li><span><a href=\"#Normalizado-del-dataset\" data-toc-modified-id=\"Normalizado-del-dataset-1.4.6\"><span class=\"toc-item-num\">1.4.6&nbsp;&nbsp;</span>Normalizado del dataset</a></span></li><li><span><a href=\"#Sexta-pregunta-(2-puntos)\" data-toc-modified-id=\"Sexta-pregunta-(2-puntos)-1.4.7\"><span class=\"toc-item-num\">1.4.7&nbsp;&nbsp;</span>Sexta pregunta (2 puntos)</a></span></li><li><span><a href=\"#a)-Escale-las-caracteríticas-del-dataset-que-considere-necesarias-entre-0-y-1-para-su-posterior-uso-en-una-regresión-logítica-binaria.-(1-puntos)\" data-toc-modified-id=\"a)-Escale-las-caracteríticas-del-dataset-que-considere-necesarias-entre-0-y-1-para-su-posterior-uso-en-una-regresión-logítica-binaria.-(1-puntos)-1.4.8\"><span class=\"toc-item-num\">1.4.8&nbsp;&nbsp;</span>a) Escale las caracteríticas del dataset que considere necesarias entre <code>0</code> y <code>1</code> para su posterior uso en una regresión logítica binaria. (1 puntos)</a></span><ul class=\"toc-item\"><li><span><a href=\"#Pista:-para-hacerlo-rápidamente,-puede-definir-una-lista-cols_to_norm-con-las-columnas-a-normalizar-e-incluir-la-función-a-usar-en-el-escalado-e-iterar-en-bucle:\" data-toc-modified-id=\"Pista:-para-hacerlo-rápidamente,-puede-definir-una-lista-cols_to_norm-con-las-columnas-a-normalizar-e-incluir-la-función-a-usar-en-el-escalado-e-iterar-en-bucle:-1.4.8.1\"><span class=\"toc-item-num\">1.4.8.1&nbsp;&nbsp;</span>Pista: para hacerlo rápidamente, puede definir una lista <code>cols_to_norm</code> con las columnas a normalizar e incluir la función a usar en el escalado e iterar en bucle:</a></span></li></ul></li><li><span><a href=\"#b)-¿Qué-destacaría-en-las-dos-tablas-anteriores?¿Cómo-han-cambiado-los-intervalos-en-los-que-las-características-están-distribuidas?-(0,5-puntos)\" data-toc-modified-id=\"b)-¿Qué-destacaría-en-las-dos-tablas-anteriores?¿Cómo-han-cambiado-los-intervalos-en-los-que-las-características-están-distribuidas?-(0,5-puntos)-1.4.9\"><span class=\"toc-item-num\">1.4.9&nbsp;&nbsp;</span>b) ¿Qué destacaría en las dos tablas anteriores?¿Cómo han cambiado los intervalos en los que las características están distribuidas? (0,5 puntos)</a></span></li><li><span><a href=\"#c)-¿Qué-otro-tipo-de-escalado-aplicaría-a-las-características-de-nuestro-dataset?-Impleméntela-debajo-y-justifique-su-elección.-(0,5-puntos)\" data-toc-modified-id=\"c)-¿Qué-otro-tipo-de-escalado-aplicaría-a-las-características-de-nuestro-dataset?-Impleméntela-debajo-y-justifique-su-elección.-(0,5-puntos)-1.4.10\"><span class=\"toc-item-num\">1.4.10&nbsp;&nbsp;</span>c) ¿Qué otro tipo de escalado aplicaría a las características de nuestro dataset? Impleméntela debajo y justifique su elección. (0,5 puntos)</a></span></li><li><span><a href=\"#Matriz-de-correlación\" data-toc-modified-id=\"Matriz-de-correlación-1.4.11\"><span class=\"toc-item-num\">1.4.11&nbsp;&nbsp;</span>Matriz de correlación</a></span></li><li><span><a href=\"#Séptima-pregunta-(1-punto)\" data-toc-modified-id=\"Séptima-pregunta-(1-punto)-1.4.12\"><span class=\"toc-item-num\">1.4.12&nbsp;&nbsp;</span>Séptima pregunta (1 punto)</a></span></li><li><span><a href=\"#Indique,-de-mayor-a-menor-correlación,-las-variables-que-guardan-una-mayor-correlación-con-la-clase.-¿Tiene-sentido-que-las-tres-primeras-variables-con-mayor-correlación-se-identifiquen-con-una-mayor-probabilidad-de-sufrir-diabetes-de-tipo-2?-Justifique-su-respuesta.\" data-toc-modified-id=\"Indique,-de-mayor-a-menor-correlación,-las-variables-que-guardan-una-mayor-correlación-con-la-clase.-¿Tiene-sentido-que-las-tres-primeras-variables-con-mayor-correlación-se-identifiquen-con-una-mayor-probabilidad-de-sufrir-diabetes-de-tipo-2?-Justifique-su-respuesta.-1.4.13\"><span class=\"toc-item-num\">1.4.13&nbsp;&nbsp;</span>Indique, de mayor a menor correlación, las variables que guardan una mayor correlación con la clase. ¿Tiene sentido que las tres primeras variables con mayor correlación se identifiquen con una mayor probabilidad de sufrir diabetes de tipo 2? Justifique su respuesta.</a></span></li></ul></li><li><span><a href=\"#Entrenando-un-modelo-de-Regresión-Logística-para-el-dataset\" data-toc-modified-id=\"Entrenando-un-modelo-de-Regresión-Logística-para-el-dataset-1.5\"><span class=\"toc-item-num\">1.5&nbsp;&nbsp;</span>Entrenando un modelo de Regresión Logística para el dataset</a></span><ul class=\"toc-item\"><li><span><a href=\"#Partición-del-dataset-en-train-test-y-test-set\" data-toc-modified-id=\"Partición-del-dataset-en-train-test-y-test-set-1.5.1\"><span class=\"toc-item-num\">1.5.1&nbsp;&nbsp;</span>Partición del dataset en train test y test set</a></span></li><li><span><a href=\"#Octava-pregunta-(1-punto)\" data-toc-modified-id=\"Octava-pregunta-(1-punto)-1.5.2\"><span class=\"toc-item-num\">1.5.2&nbsp;&nbsp;</span>Octava pregunta (1 punto)</a></span></li><li><span><a href=\"#Este-ajuste-se-ha-realizado-con-los-datos-escalados-entre-$0$-y-$1$.\" data-toc-modified-id=\"Este-ajuste-se-ha-realizado-con-los-datos-escalados-entre-$0$-y-$1$.-1.5.3\"><span class=\"toc-item-num\">1.5.3&nbsp;&nbsp;</span>Este ajuste se ha realizado con los datos escalados entre $0$ y $1$.</a></span></li><li><span><a href=\"#a)-Repita-este-ajuste-con-los-datos-no-escalados-(es-decir,-con-el-dataset-original)-(0,7-puntos)\" data-toc-modified-id=\"a)-Repita-este-ajuste-con-los-datos-no-escalados-(es-decir,-con-el-dataset-original)-(0,7-puntos)-1.5.4\"><span class=\"toc-item-num\">1.5.4&nbsp;&nbsp;</span>a) Repita este ajuste con los datos no escalados (es decir, con el dataset original) (0,7 puntos)</a></span></li><li><span><a href=\"#c)-¿Observa-una-mejora-sustancial-en-alguno-de-los-casos-o-un-empeoramiento?-Justifique-su-respuesta.-¿Por-qué-no-prueba-a-implementar-otro-algoritmo-(por-ejemplo,-RandomForestClassifier())-para-ver-si-mejora-su-precisión?-¿Cómo-interpreta-los-resultados-obtenidos?-(0,3-puntos)\" data-toc-modified-id=\"c)-¿Observa-una-mejora-sustancial-en-alguno-de-los-casos-o-un-empeoramiento?-Justifique-su-respuesta.-¿Por-qué-no-prueba-a-implementar-otro-algoritmo-(por-ejemplo,-RandomForestClassifier())-para-ver-si-mejora-su-precisión?-¿Cómo-interpreta-los-resultados-obtenidos?-(0,3-puntos)-1.5.5\"><span class=\"toc-item-num\">1.5.5&nbsp;&nbsp;</span>c) ¿Observa una mejora sustancial en alguno de los casos o un empeoramiento? Justifique su respuesta. ¿Por qué no prueba a implementar otro algoritmo (por ejemplo, <code>RandomForestClassifier()</code>) para ver si mejora su precisión? ¿Cómo interpreta los resultados obtenidos? (0,3 puntos)</a></span></li></ul></li></ul></li></ul></div>"
      ]
    },
    {
      "cell_type": "markdown",
      "metadata": {
        "collapsed": true,
        "id": "FS_dQSgH9ncf"
      },
      "source": [
        "# Actividad 1. Preprocesado de datos y clasificación binaria."
      ]
    },
    {
      "cell_type": "markdown",
      "metadata": {
        "id": "cGdlZYiG9ncg"
      },
      "source": [
        "## Finalidad de la práctica"
      ]
    },
    {
      "cell_type": "markdown",
      "metadata": {
        "id": "h1CjNLeZ9ncg"
      },
      "source": [
        "Dado el data set *Pima Indians Diabetes Database*, donde se tiene un registro de personas afectadas por Diabetes tipo 2 en función de otras muchas variables, se busca:\n",
        "* **Familiarizarnos con las técnicas de importación** de datos a través de la librería [`pandas`](https://pandas.pydata.org/).\n",
        "* **Analizar** los datos haciendo uso de las librerías [`pandas`](https://pandas.pydata.org/), [`matplotlib`](https://matplotlib.org/) y [`seaborn`](https://seaborn.pydata.org/).\n",
        "* **Sacar la mayor cantidad de conclusiones posibles** de cara al posible entrenamiento de un modelo de Machine Learning\n",
        "* **Realizar transformaciones y normalizaciones requeridas**\n",
        "* **Mostrar un rápido ejemplo de regresión logística** con este dataset."
      ]
    },
    {
      "cell_type": "markdown",
      "metadata": {
        "id": "WN11MJS09nch"
      },
      "source": [
        "____\n",
        "## Característiscticas del dataset usado\n",
        "\n",
        "Se hace uso del fichero `pima-indians-diabetes.csv`, el cual presenta las siguinetes características:\n",
        "\n",
        "1. **Title**: Pima Indians Diabetes Database\n",
        "\n",
        "2. **Sources**:\n",
        "   (a) Original owners: National Institute of Diabetes and Digestive and\n",
        "                        Kidney Diseases\n",
        "   (b) Donor of database: Vincent Sigillito (vgs@aplcen.apl.jhu.edu)\n",
        "                          Research Center, RMI Group Leader\n",
        "                          Applied Physics Laboratory\n",
        "                          The Johns Hopkins University\n",
        "                          Johns Hopkins Road\n",
        "                          Laurel, MD 20707\n",
        "                          (301) 953-6231\n",
        "   (c) Date received: 9 May 1990\n",
        "   \n",
        "3. **References**:\n",
        "       Smith,~J.~W., Everhart,~J.~E., Dickson,~W.~C., Knowler,~W.~C., \\&\n",
        "       Johannes,~R.~S. (1988). Using the ADAP learning algorithm to forecast\n",
        "       the onset of diabetes mellitus.  In {\\it Proceedings of the Symposium\n",
        "       on Computer Applications and Medical Care} (pp. 261--265).  IEEE\n",
        "       Computer Society Press.\n",
        "\n",
        "       The diagnostic, binary-valued variable investigated is whether the\n",
        "       patient shows signs of diabetes according to World Health Organization\n",
        "       criteria (i.e., if the 2 hour post-load plasma glucose was at least\n",
        "       200 mg/dl at any survey  examination or if found during routine medical\n",
        "       care).   The population lives near Phoenix, Arizona, USA.\n",
        "\n",
        "       Results: Their ADAP algorithm makes a real-valued prediction between\n",
        "       0 and 1.  This was transformed into a binary decision using a cutoff of\n",
        "       0.448.  Using 576 training instances, the sensitivity and specificity\n",
        "       of their algorithm was 76% on the remaining 192 instances.\n",
        "\n",
        "4. **Relevant information**:\n",
        "\n",
        "      Several constraints were placed on the selection of these instances from\n",
        "      a larger database.  In particular, all patients here are females at\n",
        "      least 21 years old of Pima Indian heritage.  ADAP is an adaptive learning\n",
        "      routine that generates and executes digital analogs of perceptron-like\n",
        "      devices.  It is a unique algorithm; see the paper for details.\n",
        "      \n",
        "5. **Number of samples**: 768\n",
        "\n",
        "6. **Number of features**: 8 + clase\n",
        "\n",
        "    7. Para cada característica: (**todas las variables son numéricas**)\n",
        "       1. Number of times pregnant\n",
        "       2. Plasma glucose concentration a 2 hours in an oral glucose tolerance test\n",
        "       3. Diastolic blood pressure (mm Hg)\n",
        "       4. Triceps skin fold thickness (mm)\n",
        "       5. 2-Hour serum insulin (mu U/ml)\n",
        "       6. Body mass index (weight in kg/(height in m)^2)\n",
        "       7. Diabetes pedigree function\n",
        "       8. Age (years)\n",
        "       9. Class variable (0 or 1)\n",
        "       \n",
        "7. **Missing Attribute Values**: Yes"
      ]
    },
    {
      "cell_type": "markdown",
      "metadata": {
        "id": "VZ8vKpC79nci"
      },
      "source": [
        "Los **akimel o'odham** o **pima** son un grupo indígena que vive en el estado de Arizona (Estados Unidos) y en el estado mexicano en Sonora y Chihuahua. Su nombre significa \"pueblo del río\", que los distingue de sus parientes los \"pápagos\" (la gente del desierto). Se puede encontrar más información en [este enlace](https://www.ncbi.nlm.nih.gov/pmc/articles/PMC4418458/)."
      ]
    },
    {
      "cell_type": "code",
      "execution_count": 1,
      "metadata": {
        "id": "6QjwCeVm9nci"
      },
      "outputs": [],
      "source": [
        "from IPython.core.display import HTML"
      ]
    },
    {
      "cell_type": "markdown",
      "metadata": {
        "id": "8-1zcx5x9nck"
      },
      "source": [
        "## Importación del dataset"
      ]
    },
    {
      "cell_type": "markdown",
      "metadata": {
        "id": "o4MGM0Km9ncl"
      },
      "source": [
        "Comencemos importando las librerías que vamos a necesitar en esta parte de la práctica:"
      ]
    },
    {
      "cell_type": "code",
      "execution_count": 2,
      "metadata": {
        "id": "Eg8QaHqm9ncl"
      },
      "outputs": [],
      "source": [
        "import pandas as pd"
      ]
    },
    {
      "cell_type": "code",
      "execution_count": 3,
      "metadata": {
        "id": "D1dAQhtd9ncl"
      },
      "outputs": [],
      "source": [
        "import numpy as np"
      ]
    },
    {
      "cell_type": "markdown",
      "metadata": {
        "id": "LXNDwxUC9ncl"
      },
      "source": [
        "Cargamos los datos desde el fichero `pima-indians-diabetes.csv`."
      ]
    },
    {
      "cell_type": "code",
      "execution_count": 65,
      "metadata": {
        "id": "ZSNN2B_P9ncl"
      },
      "outputs": [],
      "source": [
        "diabetes = pd.read_csv('pima-indians-diabetes.csv',\n",
        "                       names=['Num_pregnant', 'Gluc_concent',\n",
        "                             'Blood_press', 'Triceps', 'Insulin', 'BMI',\n",
        "                             'Pedigree', 'Age', 'Diagnosis'])"
      ]
    },
    {
      "cell_type": "code",
      "execution_count": 5,
      "metadata": {
        "scrolled": false,
        "colab": {
          "base_uri": "https://localhost:8080/"
        },
        "id": "PtzHZB7M9ncm",
        "outputId": "ca67b725-7abf-41da-8d8a-a5e64ce880b2"
      },
      "outputs": [
        {
          "output_type": "execute_result",
          "data": {
            "text/plain": [
              "Index(['Num_pregnant', 'Gluc_concent', 'Blood_press', 'Triceps', 'Insulin',\n",
              "       'BMI', 'Pedigree', 'Age', 'Diagnosis'],\n",
              "      dtype='object')"
            ]
          },
          "metadata": {},
          "execution_count": 5
        }
      ],
      "source": [
        "diabetes.columns"
      ]
    },
    {
      "cell_type": "code",
      "execution_count": 6,
      "metadata": {
        "colab": {
          "base_uri": "https://localhost:8080/",
          "height": 36
        },
        "id": "ocAVmbc89ncn",
        "outputId": "0491c305-e2d6-4354-c478-8c5dbdfc3bba"
      },
      "outputs": [
        {
          "output_type": "execute_result",
          "data": {
            "text/plain": [
              "'Blood_press'"
            ],
            "application/vnd.google.colaboratory.intrinsic+json": {
              "type": "string"
            }
          },
          "metadata": {},
          "execution_count": 6
        }
      ],
      "source": [
        "diabetes.keys()[2]"
      ]
    },
    {
      "cell_type": "markdown",
      "metadata": {
        "id": "Ev5303Ow9ncn"
      },
      "source": [
        "Con la función `head` somos capaces de echarle un vistazo rápido a los valores del dataset."
      ]
    },
    {
      "cell_type": "code",
      "execution_count": 7,
      "metadata": {
        "scrolled": true,
        "colab": {
          "base_uri": "https://localhost:8080/",
          "height": 363
        },
        "id": "wODS8mNF9ncn",
        "outputId": "bc542894-97f3-493b-e3d8-2ec6c4ba86eb"
      },
      "outputs": [
        {
          "output_type": "execute_result",
          "data": {
            "text/plain": [
              "   Num_pregnant  Gluc_concent  Blood_press  Triceps  Insulin   BMI  Pedigree  \\\n",
              "0             6           148           72       35        0  33.6     0.627   \n",
              "1             1            85           66       29        0  26.6     0.351   \n",
              "2             8           183           64        0        0  23.3     0.672   \n",
              "3             1            89           66       23       94  28.1     0.167   \n",
              "4             0           137           40       35      168  43.1     2.288   \n",
              "5             5           116           74        0        0  25.6     0.201   \n",
              "6             3            78           50       32       88  31.0     0.248   \n",
              "7            10           115            0        0        0  35.3     0.134   \n",
              "8             2           197           70       45      543  30.5     0.158   \n",
              "9             8           125           96        0        0   0.0     0.232   \n",
              "\n",
              "   Age  Diagnosis  \n",
              "0   50          1  \n",
              "1   31          0  \n",
              "2   32          1  \n",
              "3   21          0  \n",
              "4   33          1  \n",
              "5   30          0  \n",
              "6   26          1  \n",
              "7   29          0  \n",
              "8   53          1  \n",
              "9   54          1  "
            ],
            "text/html": [
              "\n",
              "  <div id=\"df-78279cc6-ea7e-44f1-8a22-a53204d4afb7\">\n",
              "    <div class=\"colab-df-container\">\n",
              "      <div>\n",
              "<style scoped>\n",
              "    .dataframe tbody tr th:only-of-type {\n",
              "        vertical-align: middle;\n",
              "    }\n",
              "\n",
              "    .dataframe tbody tr th {\n",
              "        vertical-align: top;\n",
              "    }\n",
              "\n",
              "    .dataframe thead th {\n",
              "        text-align: right;\n",
              "    }\n",
              "</style>\n",
              "<table border=\"1\" class=\"dataframe\">\n",
              "  <thead>\n",
              "    <tr style=\"text-align: right;\">\n",
              "      <th></th>\n",
              "      <th>Num_pregnant</th>\n",
              "      <th>Gluc_concent</th>\n",
              "      <th>Blood_press</th>\n",
              "      <th>Triceps</th>\n",
              "      <th>Insulin</th>\n",
              "      <th>BMI</th>\n",
              "      <th>Pedigree</th>\n",
              "      <th>Age</th>\n",
              "      <th>Diagnosis</th>\n",
              "    </tr>\n",
              "  </thead>\n",
              "  <tbody>\n",
              "    <tr>\n",
              "      <th>0</th>\n",
              "      <td>6</td>\n",
              "      <td>148</td>\n",
              "      <td>72</td>\n",
              "      <td>35</td>\n",
              "      <td>0</td>\n",
              "      <td>33.6</td>\n",
              "      <td>0.627</td>\n",
              "      <td>50</td>\n",
              "      <td>1</td>\n",
              "    </tr>\n",
              "    <tr>\n",
              "      <th>1</th>\n",
              "      <td>1</td>\n",
              "      <td>85</td>\n",
              "      <td>66</td>\n",
              "      <td>29</td>\n",
              "      <td>0</td>\n",
              "      <td>26.6</td>\n",
              "      <td>0.351</td>\n",
              "      <td>31</td>\n",
              "      <td>0</td>\n",
              "    </tr>\n",
              "    <tr>\n",
              "      <th>2</th>\n",
              "      <td>8</td>\n",
              "      <td>183</td>\n",
              "      <td>64</td>\n",
              "      <td>0</td>\n",
              "      <td>0</td>\n",
              "      <td>23.3</td>\n",
              "      <td>0.672</td>\n",
              "      <td>32</td>\n",
              "      <td>1</td>\n",
              "    </tr>\n",
              "    <tr>\n",
              "      <th>3</th>\n",
              "      <td>1</td>\n",
              "      <td>89</td>\n",
              "      <td>66</td>\n",
              "      <td>23</td>\n",
              "      <td>94</td>\n",
              "      <td>28.1</td>\n",
              "      <td>0.167</td>\n",
              "      <td>21</td>\n",
              "      <td>0</td>\n",
              "    </tr>\n",
              "    <tr>\n",
              "      <th>4</th>\n",
              "      <td>0</td>\n",
              "      <td>137</td>\n",
              "      <td>40</td>\n",
              "      <td>35</td>\n",
              "      <td>168</td>\n",
              "      <td>43.1</td>\n",
              "      <td>2.288</td>\n",
              "      <td>33</td>\n",
              "      <td>1</td>\n",
              "    </tr>\n",
              "    <tr>\n",
              "      <th>5</th>\n",
              "      <td>5</td>\n",
              "      <td>116</td>\n",
              "      <td>74</td>\n",
              "      <td>0</td>\n",
              "      <td>0</td>\n",
              "      <td>25.6</td>\n",
              "      <td>0.201</td>\n",
              "      <td>30</td>\n",
              "      <td>0</td>\n",
              "    </tr>\n",
              "    <tr>\n",
              "      <th>6</th>\n",
              "      <td>3</td>\n",
              "      <td>78</td>\n",
              "      <td>50</td>\n",
              "      <td>32</td>\n",
              "      <td>88</td>\n",
              "      <td>31.0</td>\n",
              "      <td>0.248</td>\n",
              "      <td>26</td>\n",
              "      <td>1</td>\n",
              "    </tr>\n",
              "    <tr>\n",
              "      <th>7</th>\n",
              "      <td>10</td>\n",
              "      <td>115</td>\n",
              "      <td>0</td>\n",
              "      <td>0</td>\n",
              "      <td>0</td>\n",
              "      <td>35.3</td>\n",
              "      <td>0.134</td>\n",
              "      <td>29</td>\n",
              "      <td>0</td>\n",
              "    </tr>\n",
              "    <tr>\n",
              "      <th>8</th>\n",
              "      <td>2</td>\n",
              "      <td>197</td>\n",
              "      <td>70</td>\n",
              "      <td>45</td>\n",
              "      <td>543</td>\n",
              "      <td>30.5</td>\n",
              "      <td>0.158</td>\n",
              "      <td>53</td>\n",
              "      <td>1</td>\n",
              "    </tr>\n",
              "    <tr>\n",
              "      <th>9</th>\n",
              "      <td>8</td>\n",
              "      <td>125</td>\n",
              "      <td>96</td>\n",
              "      <td>0</td>\n",
              "      <td>0</td>\n",
              "      <td>0.0</td>\n",
              "      <td>0.232</td>\n",
              "      <td>54</td>\n",
              "      <td>1</td>\n",
              "    </tr>\n",
              "  </tbody>\n",
              "</table>\n",
              "</div>\n",
              "      <button class=\"colab-df-convert\" onclick=\"convertToInteractive('df-78279cc6-ea7e-44f1-8a22-a53204d4afb7')\"\n",
              "              title=\"Convert this dataframe to an interactive table.\"\n",
              "              style=\"display:none;\">\n",
              "        \n",
              "  <svg xmlns=\"http://www.w3.org/2000/svg\" height=\"24px\"viewBox=\"0 0 24 24\"\n",
              "       width=\"24px\">\n",
              "    <path d=\"M0 0h24v24H0V0z\" fill=\"none\"/>\n",
              "    <path d=\"M18.56 5.44l.94 2.06.94-2.06 2.06-.94-2.06-.94-.94-2.06-.94 2.06-2.06.94zm-11 1L8.5 8.5l.94-2.06 2.06-.94-2.06-.94L8.5 2.5l-.94 2.06-2.06.94zm10 10l.94 2.06.94-2.06 2.06-.94-2.06-.94-.94-2.06-.94 2.06-2.06.94z\"/><path d=\"M17.41 7.96l-1.37-1.37c-.4-.4-.92-.59-1.43-.59-.52 0-1.04.2-1.43.59L10.3 9.45l-7.72 7.72c-.78.78-.78 2.05 0 2.83L4 21.41c.39.39.9.59 1.41.59.51 0 1.02-.2 1.41-.59l7.78-7.78 2.81-2.81c.8-.78.8-2.07 0-2.86zM5.41 20L4 18.59l7.72-7.72 1.47 1.35L5.41 20z\"/>\n",
              "  </svg>\n",
              "      </button>\n",
              "      \n",
              "  <style>\n",
              "    .colab-df-container {\n",
              "      display:flex;\n",
              "      flex-wrap:wrap;\n",
              "      gap: 12px;\n",
              "    }\n",
              "\n",
              "    .colab-df-convert {\n",
              "      background-color: #E8F0FE;\n",
              "      border: none;\n",
              "      border-radius: 50%;\n",
              "      cursor: pointer;\n",
              "      display: none;\n",
              "      fill: #1967D2;\n",
              "      height: 32px;\n",
              "      padding: 0 0 0 0;\n",
              "      width: 32px;\n",
              "    }\n",
              "\n",
              "    .colab-df-convert:hover {\n",
              "      background-color: #E2EBFA;\n",
              "      box-shadow: 0px 1px 2px rgba(60, 64, 67, 0.3), 0px 1px 3px 1px rgba(60, 64, 67, 0.15);\n",
              "      fill: #174EA6;\n",
              "    }\n",
              "\n",
              "    [theme=dark] .colab-df-convert {\n",
              "      background-color: #3B4455;\n",
              "      fill: #D2E3FC;\n",
              "    }\n",
              "\n",
              "    [theme=dark] .colab-df-convert:hover {\n",
              "      background-color: #434B5C;\n",
              "      box-shadow: 0px 1px 3px 1px rgba(0, 0, 0, 0.15);\n",
              "      filter: drop-shadow(0px 1px 2px rgba(0, 0, 0, 0.3));\n",
              "      fill: #FFFFFF;\n",
              "    }\n",
              "  </style>\n",
              "\n",
              "      <script>\n",
              "        const buttonEl =\n",
              "          document.querySelector('#df-78279cc6-ea7e-44f1-8a22-a53204d4afb7 button.colab-df-convert');\n",
              "        buttonEl.style.display =\n",
              "          google.colab.kernel.accessAllowed ? 'block' : 'none';\n",
              "\n",
              "        async function convertToInteractive(key) {\n",
              "          const element = document.querySelector('#df-78279cc6-ea7e-44f1-8a22-a53204d4afb7');\n",
              "          const dataTable =\n",
              "            await google.colab.kernel.invokeFunction('convertToInteractive',\n",
              "                                                     [key], {});\n",
              "          if (!dataTable) return;\n",
              "\n",
              "          const docLinkHtml = 'Like what you see? Visit the ' +\n",
              "            '<a target=\"_blank\" href=https://colab.research.google.com/notebooks/data_table.ipynb>data table notebook</a>'\n",
              "            + ' to learn more about interactive tables.';\n",
              "          element.innerHTML = '';\n",
              "          dataTable['output_type'] = 'display_data';\n",
              "          await google.colab.output.renderOutput(dataTable, element);\n",
              "          const docLink = document.createElement('div');\n",
              "          docLink.innerHTML = docLinkHtml;\n",
              "          element.appendChild(docLink);\n",
              "        }\n",
              "      </script>\n",
              "    </div>\n",
              "  </div>\n",
              "  "
            ]
          },
          "metadata": {},
          "execution_count": 7
        }
      ],
      "source": [
        "diabetes.head(n=10)"
      ]
    },
    {
      "cell_type": "markdown",
      "metadata": {
        "id": "-CMAnvYt9nco"
      },
      "source": [
        "### Primera pregunta (1 punto)\n",
        "\n",
        "### Por lo visto en el dataset anterior, para  un caso de regresión logística en aprendizaje supervisado, ¿qué columnas son las variables que podríamos usar para realizar la clasificación y cuál es la columna que indica la etiqueta a la que se debe apuntar? Por favor, indíquelas."
      ]
    },
    {
      "cell_type": "markdown",
      "metadata": {
        "id": "I97GQl3f9nco"
      },
      "source": [
        "Para un caso de regresión logística en aprendizaje supervisado utilizando el conjunto de datos Pima Indians Diabetes, las columnas que podríamos utilizar como variables para realizar la clasificación son todas excepto la columna de \"Diagnosis\" (resultado). Esta columna indica la presencia o ausencia de diabetes en la paciente y es la columna que se utilizaría como etiqueta o variable objetivo a la que se debe apuntar."
      ]
    },
    {
      "cell_type": "code",
      "execution_count": 8,
      "metadata": {
        "colab": {
          "base_uri": "https://localhost:8080/"
        },
        "id": "fUtjV6jW9nco",
        "outputId": "fc2884d8-e960-4a51-9731-ee7b261165dc"
      },
      "outputs": [
        {
          "output_type": "stream",
          "name": "stdout",
          "text": [
            "Las características que me interesan para clasificación son Num_pregnant, Gluc_concent, Blood_press, Triceps, Insulin, BMI, Pedigree, Age\n"
          ]
        }
      ],
      "source": [
        "print(f\"Las características que me interesan para clasificación son {diabetes.columns[0]}, {diabetes.columns[1]}, {diabetes.columns[2]}, {diabetes.columns[3]}, {diabetes.columns[4]}, {diabetes.columns[5]}, {diabetes.columns[6]}, {diabetes.columns[7]}\")"
      ]
    },
    {
      "cell_type": "markdown",
      "metadata": {
        "id": "EXOmT5qK9ncp"
      },
      "source": [
        "En resumen, todas las columnas del conjunto de datos Pima Indians Diabetes, excepto \" Diagnosis\", se pueden utilizar como variables independientes para realizar la clasificación utilizando un algoritmo de regresión logística, mientras que la columna \" Diagnosis\" sería la variable objetivo a predecir."
      ]
    },
    {
      "cell_type": "code",
      "execution_count": 9,
      "metadata": {
        "colab": {
          "base_uri": "https://localhost:8080/"
        },
        "id": "m27Z1cmC9ncp",
        "outputId": "a275f8db-d059-4d91-b07c-d0474bd0db7e"
      },
      "outputs": [
        {
          "output_type": "stream",
          "name": "stdout",
          "text": [
            "La característica que me interesan para la etiqueta a apuntar es Diagnosis\n"
          ]
        }
      ],
      "source": [
        "print(f\"La característica que me interesan para la etiqueta a apuntar es {diabetes.columns[8]}\")"
      ]
    },
    {
      "cell_type": "raw",
      "metadata": {
        "id": "JOTUTZq19ncp"
      },
      "source": [
        "rerkweñlrkkwer"
      ]
    },
    {
      "cell_type": "markdown",
      "metadata": {
        "id": "OQsPCw1K9ncp"
      },
      "source": [
        "Los tipos de cada columna se pueden explorar de la siguiente manera:"
      ]
    },
    {
      "cell_type": "code",
      "execution_count": 10,
      "metadata": {
        "colab": {
          "base_uri": "https://localhost:8080/"
        },
        "id": "iLvIByqz9ncp",
        "outputId": "69f063b6-c9fa-427a-fff8-d95c55460222"
      },
      "outputs": [
        {
          "output_type": "execute_result",
          "data": {
            "text/plain": [
              "Num_pregnant      int64\n",
              "Gluc_concent      int64\n",
              "Blood_press       int64\n",
              "Triceps           int64\n",
              "Insulin           int64\n",
              "BMI             float64\n",
              "Pedigree        float64\n",
              "Age               int64\n",
              "Diagnosis         int64\n",
              "dtype: object"
            ]
          },
          "metadata": {},
          "execution_count": 10
        }
      ],
      "source": [
        "diabetes.dtypes"
      ]
    },
    {
      "cell_type": "markdown",
      "metadata": {
        "id": "n-uzy7BD9ncq"
      },
      "source": [
        "### Segunda pregunta (1 punto)\n",
        "\n",
        "### Haciendo uso de la función de pandas `isnull().sum()`, compruebe si hay `missing_values` en el dataset facilitado."
      ]
    },
    {
      "cell_type": "markdown",
      "source": [
        "En este caso se puede observar que el dataset Pima Indians Diabetes no contiene valores nulos en sus columnas."
      ],
      "metadata": {
        "id": "IcEV8JEkVb8D"
      }
    },
    {
      "cell_type": "code",
      "source": [
        "missing_values = diabetes.isnull().sum()\n",
        "print(missing_values)"
      ],
      "metadata": {
        "colab": {
          "base_uri": "https://localhost:8080/"
        },
        "id": "RpxCWNO-V1UW",
        "outputId": "7d9410b3-f145-4dcb-fbf5-cadf6f75c1ad"
      },
      "execution_count": 11,
      "outputs": [
        {
          "output_type": "stream",
          "name": "stdout",
          "text": [
            "Num_pregnant    0\n",
            "Gluc_concent    0\n",
            "Blood_press     0\n",
            "Triceps         0\n",
            "Insulin         0\n",
            "BMI             0\n",
            "Pedigree        0\n",
            "Age             0\n",
            "Diagnosis       0\n",
            "dtype: int64\n"
          ]
        }
      ]
    },
    {
      "cell_type": "markdown",
      "metadata": {
        "id": "47_X-rBB9ncr"
      },
      "source": [
        "### Visualización de datos"
      ]
    },
    {
      "cell_type": "markdown",
      "metadata": {
        "id": "XGW-toqH9ncr"
      },
      "source": [
        "### Tercera pregunta (2 puntos)\n",
        "\n",
        "### a) Haciendo uso de `df.hist()`, ejecute las siguientes líneas de código. (0.5 puntos)"
      ]
    },
    {
      "cell_type": "raw",
      "metadata": {
        "id": "ZGdilQB79ncr"
      },
      "source": [
        "Puede que resulte necesario corre dos veces la siguiente línea de código dado lo pesado del gráfico."
      ]
    },
    {
      "cell_type": "code",
      "execution_count": 12,
      "metadata": {
        "scrolled": false,
        "colab": {
          "base_uri": "https://localhost:8080/",
          "height": 1000
        },
        "id": "foa9pL9y9ncr",
        "outputId": "49bb6669-b1b1-496a-de57-1f555276387d"
      },
      "outputs": [
        {
          "output_type": "display_data",
          "data": {
            "text/plain": [
              "<Figure size 2000x1500 with 9 Axes>"
            ],
            "image/png": "[encoded data removed]"
          },
          "metadata": {}
        }
      ],
      "source": [
        "import matplotlib.pyplot as plt\n",
        "diabetes.hist(bins = 50, figsize=(20, 15))\n",
        "plt.show()"
      ]
    },
    {
      "cell_type": "markdown",
      "metadata": {
        "id": "rDxiPQDz9ncs"
      },
      "source": [
        "Se pueden obtener más detalles de nuestro dataset almacenados en `pandas` a través del comando `df.describe()`."
      ]
    },
    {
      "cell_type": "code",
      "execution_count": 13,
      "metadata": {
        "scrolled": true,
        "colab": {
          "base_uri": "https://localhost:8080/",
          "height": 300
        },
        "id": "gr8lf-oj9ncs",
        "outputId": "8e1eb7d7-496d-451a-fd95-09c5f59f44d8"
      },
      "outputs": [
        {
          "output_type": "execute_result",
          "data": {
            "text/plain": [
              "       Num_pregnant  Gluc_concent  Blood_press     Triceps     Insulin  \\\n",
              "count    768.000000    768.000000   768.000000  768.000000  768.000000   \n",
              "mean       3.845052    120.894531    69.105469   20.536458   79.799479   \n",
              "std        3.369578     31.972618    19.355807   15.952218  115.244002   \n",
              "min        0.000000      0.000000     0.000000    0.000000    0.000000   \n",
              "25%        1.000000     99.000000    62.000000    0.000000    0.000000   \n",
              "50%        3.000000    117.000000    72.000000   23.000000   30.500000   \n",
              "75%        6.000000    140.250000    80.000000   32.000000  127.250000   \n",
              "max       17.000000    199.000000   122.000000   99.000000  846.000000   \n",
              "\n",
              "              BMI    Pedigree         Age   Diagnosis  \n",
              "count  768.000000  768.000000  768.000000  768.000000  \n",
              "mean    31.992578    0.471876   33.240885    0.348958  \n",
              "std      7.884160    0.331329   11.760232    0.476951  \n",
              "min      0.000000    0.078000   21.000000    0.000000  \n",
              "25%     27.300000    0.243750   24.000000    0.000000  \n",
              "50%     32.000000    0.372500   29.000000    0.000000  \n",
              "75%     36.600000    0.626250   41.000000    1.000000  \n",
              "max     67.100000    2.420000   81.000000    1.000000  "
            ],
            "text/html": [
              "\n",
              "  <div id=\"df-96b2f789-f112-4349-a9b6-ee726465a7c0\">\n",
              "    <div class=\"colab-df-container\">\n",
              "      <div>\n",
              "<style scoped>\n",
              "    .dataframe tbody tr th:only-of-type {\n",
              "        vertical-align: middle;\n",
              "    }\n",
              "\n",
              "    .dataframe tbody tr th {\n",
              "        vertical-align: top;\n",
              "    }\n",
              "\n",
              "    .dataframe thead th {\n",
              "        text-align: right;\n",
              "    }\n",
              "</style>\n",
              "<table border=\"1\" class=\"dataframe\">\n",
              "  <thead>\n",
              "    <tr style=\"text-align: right;\">\n",
              "      <th></th>\n",
              "      <th>Num_pregnant</th>\n",
              "      <th>Gluc_concent</th>\n",
              "      <th>Blood_press</th>\n",
              "      <th>Triceps</th>\n",
              "      <th>Insulin</th>\n",
              "      <th>BMI</th>\n",
              "      <th>Pedigree</th>\n",
              "      <th>Age</th>\n",
              "      <th>Diagnosis</th>\n",
              "    </tr>\n",
              "  </thead>\n",
              "  <tbody>\n",
              "    <tr>\n",
              "      <th>count</th>\n",
              "      <td>768.000000</td>\n",
              "      <td>768.000000</td>\n",
              "      <td>768.000000</td>\n",
              "      <td>768.000000</td>\n",
              "      <td>768.000000</td>\n",
              "      <td>768.000000</td>\n",
              "      <td>768.000000</td>\n",
              "      <td>768.000000</td>\n",
              "      <td>768.000000</td>\n",
              "    </tr>\n",
              "    <tr>\n",
              "      <th>mean</th>\n",
              "      <td>3.845052</td>\n",
              "      <td>120.894531</td>\n",
              "      <td>69.105469</td>\n",
              "      <td>20.536458</td>\n",
              "      <td>79.799479</td>\n",
              "      <td>31.992578</td>\n",
              "      <td>0.471876</td>\n",
              "      <td>33.240885</td>\n",
              "      <td>0.348958</td>\n",
              "    </tr>\n",
              "    <tr>\n",
              "      <th>std</th>\n",
              "      <td>3.369578</td>\n",
              "      <td>31.972618</td>\n",
              "      <td>19.355807</td>\n",
              "      <td>15.952218</td>\n",
              "      <td>115.244002</td>\n",
              "      <td>7.884160</td>\n",
              "      <td>0.331329</td>\n",
              "      <td>11.760232</td>\n",
              "      <td>0.476951</td>\n",
              "    </tr>\n",
              "    <tr>\n",
              "      <th>min</th>\n",
              "      <td>0.000000</td>\n",
              "      <td>0.000000</td>\n",
              "      <td>0.000000</td>\n",
              "      <td>0.000000</td>\n",
              "      <td>0.000000</td>\n",
              "      <td>0.000000</td>\n",
              "      <td>0.078000</td>\n",
              "      <td>21.000000</td>\n",
              "      <td>0.000000</td>\n",
              "    </tr>\n",
              "    <tr>\n",
              "      <th>25%</th>\n",
              "      <td>1.000000</td>\n",
              "      <td>99.000000</td>\n",
              "      <td>62.000000</td>\n",
              "      <td>0.000000</td>\n",
              "      <td>0.000000</td>\n",
              "      <td>27.300000</td>\n",
              "      <td>0.243750</td>\n",
              "      <td>24.000000</td>\n",
              "      <td>0.000000</td>\n",
              "    </tr>\n",
              "    <tr>\n",
              "      <th>50%</th>\n",
              "      <td>3.000000</td>\n",
              "      <td>117.000000</td>\n",
              "      <td>72.000000</td>\n",
              "      <td>23.000000</td>\n",
              "      <td>30.500000</td>\n",
              "      <td>32.000000</td>\n",
              "      <td>0.372500</td>\n",
              "      <td>29.000000</td>\n",
              "      <td>0.000000</td>\n",
              "    </tr>\n",
              "    <tr>\n",
              "      <th>75%</th>\n",
              "      <td>6.000000</td>\n",
              "      <td>140.250000</td>\n",
              "      <td>80.000000</td>\n",
              "      <td>32.000000</td>\n",
              "      <td>127.250000</td>\n",
              "      <td>36.600000</td>\n",
              "      <td>0.626250</td>\n",
              "      <td>41.000000</td>\n",
              "      <td>1.000000</td>\n",
              "    </tr>\n",
              "    <tr>\n",
              "      <th>max</th>\n",
              "      <td>17.000000</td>\n",
              "      <td>199.000000</td>\n",
              "      <td>122.000000</td>\n",
              "      <td>99.000000</td>\n",
              "      <td>846.000000</td>\n",
              "      <td>67.100000</td>\n",
              "      <td>2.420000</td>\n",
              "      <td>81.000000</td>\n",
              "      <td>1.000000</td>\n",
              "    </tr>\n",
              "  </tbody>\n",
              "</table>\n",
              "</div>\n",
              "      <button class=\"colab-df-convert\" onclick=\"convertToInteractive('df-96b2f789-f112-4349-a9b6-ee726465a7c0')\"\n",
              "              title=\"Convert this dataframe to an interactive table.\"\n",
              "              style=\"display:none;\">\n",
              "        \n",
              "  <svg xmlns=\"http://www.w3.org/2000/svg\" height=\"24px\"viewBox=\"0 0 24 24\"\n",
              "       width=\"24px\">\n",
              "    <path d=\"M0 0h24v24H0V0z\" fill=\"none\"/>\n",
              "    <path d=\"M18.56 5.44l.94 2.06.94-2.06 2.06-.94-2.06-.94-.94-2.06-.94 2.06-2.06.94zm-11 1L8.5 8.5l.94-2.06 2.06-.94-2.06-.94L8.5 2.5l-.94 2.06-2.06.94zm10 10l.94 2.06.94-2.06 2.06-.94-2.06-.94-.94-2.06-.94 2.06-2.06.94z\"/><path d=\"M17.41 7.96l-1.37-1.37c-.4-.4-.92-.59-1.43-.59-.52 0-1.04.2-1.43.59L10.3 9.45l-7.72 7.72c-.78.78-.78 2.05 0 2.83L4 21.41c.39.39.9.59 1.41.59.51 0 1.02-.2 1.41-.59l7.78-7.78 2.81-2.81c.8-.78.8-2.07 0-2.86zM5.41 20L4 18.59l7.72-7.72 1.47 1.35L5.41 20z\"/>\n",
              "  </svg>\n",
              "      </button>\n",
              "      \n",
              "  <style>\n",
              "    .colab-df-container {\n",
              "      display:flex;\n",
              "      flex-wrap:wrap;\n",
              "      gap: 12px;\n",
              "    }\n",
              "\n",
              "    .colab-df-convert {\n",
              "      background-color: #E8F0FE;\n",
              "      border: none;\n",
              "      border-radius: 50%;\n",
              "      cursor: pointer;\n",
              "      display: none;\n",
              "      fill: #1967D2;\n",
              "      height: 32px;\n",
              "      padding: 0 0 0 0;\n",
              "      width: 32px;\n",
              "    }\n",
              "\n",
              "    .colab-df-convert:hover {\n",
              "      background-color: #E2EBFA;\n",
              "      box-shadow: 0px 1px 2px rgba(60, 64, 67, 0.3), 0px 1px 3px 1px rgba(60, 64, 67, 0.15);\n",
              "      fill: #174EA6;\n",
              "    }\n",
              "\n",
              "    [theme=dark] .colab-df-convert {\n",
              "      background-color: #3B4455;\n",
              "      fill: #D2E3FC;\n",
              "    }\n",
              "\n",
              "    [theme=dark] .colab-df-convert:hover {\n",
              "      background-color: #434B5C;\n",
              "      box-shadow: 0px 1px 3px 1px rgba(0, 0, 0, 0.15);\n",
              "      filter: drop-shadow(0px 1px 2px rgba(0, 0, 0, 0.3));\n",
              "      fill: #FFFFFF;\n",
              "    }\n",
              "  </style>\n",
              "\n",
              "      <script>\n",
              "        const buttonEl =\n",
              "          document.querySelector('#df-96b2f789-f112-4349-a9b6-ee726465a7c0 button.colab-df-convert');\n",
              "        buttonEl.style.display =\n",
              "          google.colab.kernel.accessAllowed ? 'block' : 'none';\n",
              "\n",
              "        async function convertToInteractive(key) {\n",
              "          const element = document.querySelector('#df-96b2f789-f112-4349-a9b6-ee726465a7c0');\n",
              "          const dataTable =\n",
              "            await google.colab.kernel.invokeFunction('convertToInteractive',\n",
              "                                                     [key], {});\n",
              "          if (!dataTable) return;\n",
              "\n",
              "          const docLinkHtml = 'Like what you see? Visit the ' +\n",
              "            '<a target=\"_blank\" href=https://colab.research.google.com/notebooks/data_table.ipynb>data table notebook</a>'\n",
              "            + ' to learn more about interactive tables.';\n",
              "          element.innerHTML = '';\n",
              "          dataTable['output_type'] = 'display_data';\n",
              "          await google.colab.output.renderOutput(dataTable, element);\n",
              "          const docLink = document.createElement('div');\n",
              "          docLink.innerHTML = docLinkHtml;\n",
              "          element.appendChild(docLink);\n",
              "        }\n",
              "      </script>\n",
              "    </div>\n",
              "  </div>\n",
              "  "
            ]
          },
          "metadata": {},
          "execution_count": 13
        }
      ],
      "source": [
        "diabetes.describe()"
      ]
    },
    {
      "cell_type": "markdown",
      "metadata": {
        "id": "SmxV85ss9ncs"
      },
      "source": [
        "### b) Vemos que hay algunas características del dataset que tienen un valor mínimo sin ningún sentido lógico. ¿Qué características o variables considera que habría que modificar para eliminar esos registros nulos que carecen de sentido? (0.5 puntos)"
      ]
    },
    {
      "cell_type": "code",
      "execution_count": 14,
      "metadata": {
        "colab": {
          "base_uri": "https://localhost:8080/"
        },
        "id": "xNki2h0V9ncy",
        "outputId": "9910ebcc-e5fd-45e1-cd31-1663e0a95207"
      },
      "outputs": [
        {
          "output_type": "stream",
          "name": "stdout",
          "text": [
            "Las características que se deberian modificar debido a su valor minimo sin sentido logico son Gluc_concent, Blood_press, Triceps, Insulin, BMI\n"
          ]
        }
      ],
      "source": [
        "print(f\"Las características que se deberian modificar debido a su valor minimo sin sentido logico son {diabetes.columns[1]}, {diabetes.columns[2]}, {diabetes.columns[3]}, {diabetes.columns[4]}, {diabetes.columns[5]}\")"
      ]
    },
    {
      "cell_type": "markdown",
      "metadata": {
        "id": "PDDKvh2U9ncy"
      },
      "source": [
        "### c) ¿Cuál es la relación $\\Gamma = \\frac{diabeticos}{\\neg diabeticos}$? ¿Está nuestro dataset balanceado? Si es así, justificar. De lo contrario, indicar qué clase está subrepresentada. (0.5 puntos)"
      ]
    },
    {
      "cell_type": "markdown",
      "source": [
        "La relación entre diabéticas y no diabéticas es del 34%"
      ],
      "metadata": {
        "id": "1D-haR32f67D"
      }
    },
    {
      "cell_type": "code",
      "execution_count": 15,
      "metadata": {
        "colab": {
          "base_uri": "https://localhost:8080/"
        },
        "id": "RdTyIlsl9ncz",
        "outputId": "5680ac92-f33f-43d6-fcfe-c4ca907fe291"
      },
      "outputs": [
        {
          "output_type": "stream",
          "name": "stdout",
          "text": [
            "Relación entre diabéticos y no diabéticos:\n",
            "Tasa: 0.3489583333333333\n"
          ]
        }
      ],
      "source": [
        "# Calcular el número de instancias diabéticas y no diabéticas\n",
        "diabeticas = diabetes[diabetes['Diagnosis'] == 1].shape[0]\n",
        "no_diabeticas = diabetes[diabetes['Diagnosis'] == 0].shape[0]\n",
        "\n",
        "# Calcular la relación\n",
        "tasa = diabeticas / (diabeticas + no_diabeticas)\n",
        "\n",
        "# Imprimir el resultado\n",
        "print(\"Relación entre diabéticos y no diabéticos:\")\n",
        "print(f\"Tasa: {tasa}\")"
      ]
    },
    {
      "cell_type": "markdown",
      "source": [
        "El conjunto de datos no está balanceado y la clase que esta subrepresentada es la de No Diabéticas con un 65% en comparación con las mujeres Diabéticas con un 35%."
      ],
      "metadata": {
        "id": "peXHKgpTf9PT"
      }
    },
    {
      "cell_type": "code",
      "source": [
        "# Contar el número de instancias diabéticas y no diabéticas\n",
        "diabeticas = diabetes[diabetes['Diagnosis'] == 1].shape[0]\n",
        "no_diabeticas = diabetes[diabetes['Diagnosis'] == 0].shape[0]\n",
        "\n",
        "# Calcular el porcentaje de instancias diabéticas y no diabéticas\n",
        "total_instancias = diabeticas + no_diabeticas\n",
        "porcentaje_diabeticas = (diabeticas / total_instancias) * 100\n",
        "porcentaje_no_diabeticas = (no_diabeticas / total_instancias) * 100\n",
        "\n",
        "print(f\"Porcentaje Diabeticas: {porcentaje_diabeticas}\")\n",
        "print(f\"Porcentaje No Diabeticas: {porcentaje_no_diabeticas}\")\n",
        "\n",
        "# Verificar si el conjunto de datos está balanceado\n",
        "if abs(porcentaje_diabeticas - porcentaje_no_diabeticas) < 10:\n",
        "    print(\"\\nEl conjunto de datos está balanceado.\")\n",
        "else:\n",
        "    print(\"\\nEl conjunto de datos no está balanceado.\")"
      ],
      "metadata": {
        "colab": {
          "base_uri": "https://localhost:8080/"
        },
        "id": "6_ALS9rQgWwe",
        "outputId": "67db4bae-449e-4d30-9c29-89274f8a09d3"
      },
      "execution_count": 16,
      "outputs": [
        {
          "output_type": "stream",
          "name": "stdout",
          "text": [
            "Porcentaje Diabeticas: 34.89583333333333\n",
            "Porcentaje No Diabeticas: 65.10416666666666\n",
            "\n",
            "El conjunto de datos no está balanceado.\n"
          ]
        }
      ]
    },
    {
      "cell_type": "markdown",
      "metadata": {
        "id": "6ysQK8ZR9ncz"
      },
      "source": [
        "### d) ¿Qué alternativas de actuación sobre el dataset propone para compensar la posible subrepresentación de una clase? (0.5 puntos)"
      ]
    },
    {
      "cell_type": "markdown",
      "source": [
        "Podría considerar algunas alternativas de actuación para abordar este desequilibrio como las siguientes:\n",
        "\n",
        "*   Oversampling de la clase minoritaria\n",
        "*   Undersampling de la clase mayoritaria\n",
        "*   Generación de datos sintéticos\n",
        "*   Métodos híbridos\n",
        "*   Enfoques basados en algoritmos"
      ],
      "metadata": {
        "id": "MTrHVE2eloCY"
      }
    },
    {
      "cell_type": "code",
      "execution_count": 17,
      "metadata": {
        "colab": {
          "base_uri": "https://localhost:8080/"
        },
        "id": "nMovNUVK9ncz",
        "outputId": "26d36cbf-4b5b-418a-97e7-d6589888928e"
      },
      "outputs": [
        {
          "output_type": "stream",
          "name": "stdout",
          "text": [
            "Clases balanceadas:\n",
            "1    500\n",
            "0    500\n",
            "Name: Diagnosis, dtype: int64\n"
          ]
        }
      ],
      "source": [
        "from imblearn.over_sampling import SMOTE\n",
        "\n",
        "# Separar características (X) y etiquetas (y)\n",
        "X = diabetes.drop('Diagnosis', axis=1)\n",
        "y = diabetes['Diagnosis']\n",
        "\n",
        "# Aplicar SMOTE para equilibrar las clases\n",
        "smote = SMOTE()\n",
        "X_resampled, y_resampled = smote.fit_resample(X, y)\n",
        "\n",
        "# Verificar el balance de las clases\n",
        "balanceado = pd.Series(y_resampled).value_counts()\n",
        "print(\"Clases balanceadas:\")\n",
        "print(balanceado)"
      ]
    },
    {
      "cell_type": "markdown",
      "metadata": {
        "id": "cexQw4lz9ncz"
      },
      "source": [
        "____\n",
        "## Limpieza y procesado de datos"
      ]
    },
    {
      "cell_type": "markdown",
      "metadata": {
        "id": "Ci54O_Nt9nc0"
      },
      "source": [
        "Los algoritmos de Machine Learning no suelen funcionar muy bien cuando faltan datos en los mismos, ya sea por la presencia de `missing values` o por la presencia de $0s$, por lo que debemos encontrar una solución para mitigar estos efectos.\n",
        "\n"
      ]
    },
    {
      "cell_type": "markdown",
      "metadata": {
        "id": "v35vJLHn9nc0"
      },
      "source": [
        "### Cuarta pregunta (1 puntos)\n",
        "\n",
        "### ¿Cuál es el porcentaje de datos nulos de insulina en el dataset (en la columna `insuline`)? ¿Ve conveniente eliminar todas aquellas filas donde nos falte alguna variable? Justifique su respuesta."
      ]
    },
    {
      "cell_type": "markdown",
      "source": [
        "En este caso no se refleja ningún porcentaje de dato nulo en la columna Insulin, por lo cual no veo conveniente eliminar ninguna fila de allí."
      ],
      "metadata": {
        "id": "e5bDo7QPn8ww"
      }
    },
    {
      "cell_type": "code",
      "execution_count": 18,
      "metadata": {
        "colab": {
          "base_uri": "https://localhost:8080/"
        },
        "id": "CrUrXddG9nc0",
        "outputId": "51fcb1c1-8924-4a2e-f4c8-c1fcb7ec5452"
      },
      "outputs": [
        {
          "output_type": "stream",
          "name": "stdout",
          "text": [
            "Porcentaje de datos nulos en la columna 'Insulin': 0.00%\n"
          ]
        }
      ],
      "source": [
        "# Calcular el porcentaje de datos nulos en la columna \"Insulin\"\n",
        "porcentaje_nulos = (diabetes['Insulin'].isnull().sum() / diabetes.shape[0]) * 100\n",
        "\n",
        "# Imprimir el resultado\n",
        "print(f\"Porcentaje de datos nulos en la columna 'Insulin': {porcentaje_nulos:.2f}%\")\n"
      ]
    },
    {
      "cell_type": "markdown",
      "metadata": {
        "id": "rHn2vAVh9nc1"
      },
      "source": [
        "Una opción reside en calcular el valor mediano para una columna específica y sustituir ese valor en todas partes (en la misma columna) donde tenemos cero o nulo.\n",
        "\n",
        "A continuación se incluye una pequeña ayuda en forma de pseudocódigo para sustituir los ceros por la mediana de una columna."
      ]
    },
    {
      "cell_type": "code",
      "execution_count": 66,
      "metadata": {
        "id": "JA5-uGzk9nc1"
      },
      "outputs": [],
      "source": [
        "median_var = diabetes['Insulin'].median()\n",
        "# Sustituimos los valores nulos del índice de una determinada variable por la mediana\n",
        "diabetes['Insulin'] = diabetes['Insulin'].replace(to_replace = 0, value = median_var)"
      ]
    },
    {
      "cell_type": "markdown",
      "metadata": {
        "id": "Fm1zE56Q9nc1"
      },
      "source": [
        "### Quinta pregunta (1 puntos)\n",
        "\n",
        "### a) Realice la sustitución indicada arriba por la mediana en todas aquellas variables que considere que contienen valores sin sentido (en relación con la pregunta 3.b.) (5 puntos)"
      ]
    },
    {
      "cell_type": "markdown",
      "source": [
        "**1.\tGluc_concent:** Para este campo considere imputar los valores con su respectiva mediana que estén por debajo del umbral de 20, ya que por debajo de ese rango son estados extremadamente extraños que probablemente nunca se dan."
      ],
      "metadata": {
        "id": "CqENfwihSi7I"
      }
    },
    {
      "cell_type": "code",
      "source": [
        "# Calcular la mediana de la columna \"Gluc_concent\"\n",
        "mediana_gluc_concent = diabetes['Gluc_concent'].median()\n",
        "\n",
        "# Imputar los valores menores a 20 de la columna \"Gluc_concent\" con la mediana\n",
        "diabetes.loc[(diabetes['Gluc_concent'] < 20), 'Gluc_concent'] = mediana_gluc_concent\n",
        "\n",
        "# Verificar que los valores hayan sido imputados correctamente\n",
        "print(diabetes[(diabetes['Gluc_concent'] < 20)])"
      ],
      "metadata": {
        "colab": {
          "base_uri": "https://localhost:8080/"
        },
        "id": "m5Gkz4IHHMEY",
        "outputId": "68aa2624-7fbc-4f48-fe98-496ed4d04987"
      },
      "execution_count": 67,
      "outputs": [
        {
          "output_type": "stream",
          "name": "stdout",
          "text": [
            "Empty DataFrame\n",
            "Columns: [Num_pregnant, Gluc_concent, Blood_press, Triceps, Insulin, BMI, Pedigree, Age, Diagnosis]\n",
            "Index: []\n"
          ]
        }
      ]
    },
    {
      "cell_type": "markdown",
      "source": [
        "**2.\tBlood_press:** Para este campo considere imputar los valores con su respectiva mediana que estén por debajo del umbral de 60, ya que por debajo de ese rango son estados extremadamente extraños que probablemente nunca se dan."
      ],
      "metadata": {
        "id": "G00B-OdNTha2"
      }
    },
    {
      "cell_type": "code",
      "source": [
        "# Calcular la mediana de la columna \"Blood_press\"\n",
        "mediana_blood_press = diabetes['Blood_press'].median()\n",
        "\n",
        "# Imputar los valores menores a 60 de la columna \"Blood_press\" con la mediana\n",
        "diabetes.loc[(diabetes['Blood_press'] < 60), 'Blood_press'] = mediana_blood_press\n",
        "\n",
        "# Verificar que los valores hayan sido imputados correctamente\n",
        "print(diabetes[(diabetes['Blood_press'] < 60)])"
      ],
      "metadata": {
        "colab": {
          "base_uri": "https://localhost:8080/"
        },
        "id": "k6KOj-Q4H4pX",
        "outputId": "cf296046-e0b6-4991-f75c-cc0e75914491"
      },
      "execution_count": 68,
      "outputs": [
        {
          "output_type": "stream",
          "name": "stdout",
          "text": [
            "Empty DataFrame\n",
            "Columns: [Num_pregnant, Gluc_concent, Blood_press, Triceps, Insulin, BMI, Pedigree, Age, Diagnosis]\n",
            "Index: []\n"
          ]
        }
      ]
    },
    {
      "cell_type": "markdown",
      "source": [
        "**3.\tTriceps:** Para este campo considere imputar los valores con su respectiva mediana que estén por debajo del umbral de 10 y por encima de 40, ya que en un contexto médico típico, el grosor del pliegue de la piel en personas puede oscilar desde alrededor de 10 mm hasta 40 mm."
      ],
      "metadata": {
        "id": "IPW1UhD3T091"
      }
    },
    {
      "cell_type": "code",
      "execution_count": 69,
      "metadata": {
        "id": "c0NK1ZHq9nc2",
        "colab": {
          "base_uri": "https://localhost:8080/"
        },
        "outputId": "8e86c02a-cfa6-4243-f349-149243521e3f"
      },
      "outputs": [
        {
          "output_type": "stream",
          "name": "stdout",
          "text": [
            "Empty DataFrame\n",
            "Columns: [Num_pregnant, Gluc_concent, Blood_press, Triceps, Insulin, BMI, Pedigree, Age, Diagnosis]\n",
            "Index: []\n"
          ]
        }
      ],
      "source": [
        "# Calcular la mediana de la columna \"Triceps\"\n",
        "mediana_triceps = diabetes['Triceps'].median()\n",
        "\n",
        "# Imputar los valores menores a 10 y mayores a 40 de la columna \"Triceps\" con la mediana\n",
        "diabetes.loc[(diabetes['Triceps'] < 10) | (diabetes['Triceps'] > 40), 'Triceps'] = mediana_triceps\n",
        "\n",
        "# Verificar que los valores hayan sido imputados correctamente\n",
        "print(diabetes[(diabetes['Triceps'] < 10) | (diabetes['Triceps'] > 40)])"
      ]
    },
    {
      "cell_type": "markdown",
      "source": [
        "**4.\tInsulin:** Para este campo considere imputar los valores con su respectiva mediana que estén por debajo del umbral de 6 y por encima de 300, ya que los niveles mínimos de insulina en sangre suelen oscilar entre 6 a 23 mu U/ml y los máximos y no muy comunes puede oscilar hasta los 300 mu U/ml. Sin embargo."
      ],
      "metadata": {
        "id": "wG2uF5H_Ul93"
      }
    },
    {
      "cell_type": "code",
      "source": [
        "# Calcular la mediana de la columna \"Insulin\"\n",
        "mediana_insulin = diabetes['Insulin'].median()\n",
        "\n",
        "# Imputar los valores menores a 6 y mayores a 300 de la columna \"Insulin\" con la mediana\n",
        "diabetes.loc[(diabetes['Insulin'] < 6) | (diabetes['Insulin'] > 300), 'Insulin'] = mediana_insulin\n",
        "\n",
        "# Verificar que los valores hayan sido imputados correctamente\n",
        "print(diabetes[(diabetes['Insulin'] < 6) | (diabetes['Insulin'] > 300)])"
      ],
      "metadata": {
        "colab": {
          "base_uri": "https://localhost:8080/"
        },
        "id": "tAt6l9KUUql1",
        "outputId": "32355829-6223-473c-e4e1-486bca372131"
      },
      "execution_count": 70,
      "outputs": [
        {
          "output_type": "stream",
          "name": "stdout",
          "text": [
            "Empty DataFrame\n",
            "Columns: [Num_pregnant, Gluc_concent, Blood_press, Triceps, Insulin, BMI, Pedigree, Age, Diagnosis]\n",
            "Index: []\n"
          ]
        }
      ]
    },
    {
      "cell_type": "markdown",
      "source": [
        "**5.\tBMI (Body Mass Index):** Para este campo considere imputar los valores con su respectiva mediana que estén por debajo del umbral de 10 y por encima de 50, ya que un índice de masa corporal menor a 10 y mayor a 60 generalmente se considera extremadamente extraños que probablemente nunca se dan."
      ],
      "metadata": {
        "id": "M1BAZ51uVBHl"
      }
    },
    {
      "cell_type": "code",
      "source": [
        "# Calcular la mediana de la columna \"BMI\"\n",
        "mediana_bmi = diabetes['BMI'].median()\n",
        "\n",
        "# Imputar los valores menores a 10 y mayores a 60 de la columna \"BMI\" con la mediana\n",
        "diabetes.loc[(diabetes['BMI'] < 10) | (diabetes['BMI'] > 40), 'BMI'] = mediana_bmi\n",
        "\n",
        "# Verificar que los valores hayan sido imputados correctamente\n",
        "print(diabetes[(diabetes['BMI'] < 10) | (diabetes['BMI'] > 60)])"
      ],
      "metadata": {
        "colab": {
          "base_uri": "https://localhost:8080/"
        },
        "id": "Qnj2bzRfVCjc",
        "outputId": "26576b83-53e6-459f-b18a-abef2cb6b28c"
      },
      "execution_count": 71,
      "outputs": [
        {
          "output_type": "stream",
          "name": "stdout",
          "text": [
            "Empty DataFrame\n",
            "Columns: [Num_pregnant, Gluc_concent, Blood_press, Triceps, Insulin, BMI, Pedigree, Age, Diagnosis]\n",
            "Index: []\n"
          ]
        }
      ]
    },
    {
      "cell_type": "markdown",
      "metadata": {
        "id": "S8T4L_9O9nc2"
      },
      "source": [
        "### b) Vuelva a ejecutar el comando `diabetes.describe()`. ¿Cuál es la única variable que debe tener como valor mínimo $0$ tras haber hecho la sustitución de los valores nulos por su mediana? (0,5 puntos)"
      ]
    },
    {
      "cell_type": "code",
      "execution_count": 25,
      "metadata": {
        "id": "OaI3i2HW9nc2",
        "colab": {
          "base_uri": "https://localhost:8080/",
          "height": 300
        },
        "outputId": "ebcf17f5-175f-40c4-d2d5-2350aac3123d"
      },
      "outputs": [
        {
          "output_type": "execute_result",
          "data": {
            "text/plain": [
              "       Num_pregnant  Gluc_concent  Blood_press     Triceps     Insulin  \\\n",
              "count    768.000000    768.000000   768.000000  768.000000  768.000000   \n",
              "mean       3.845052    121.656250    74.608073   25.190104   74.713867   \n",
              "std        3.369578     30.438286     9.534336    6.388166   65.082266   \n",
              "min        0.000000     44.000000    60.000000   10.000000   14.000000   \n",
              "25%        1.000000     99.750000    68.000000   23.000000   30.500000   \n",
              "50%        3.000000    117.000000    72.000000   23.000000   30.875000   \n",
              "75%        6.000000    140.250000    80.000000   29.000000  106.500000   \n",
              "max       17.000000    199.000000   122.000000   40.000000  300.000000   \n",
              "\n",
              "              BMI    Pedigree         Age   Diagnosis  \n",
              "count  768.000000  768.000000  768.000000  768.000000  \n",
              "mean    30.852474    0.471876   33.240885    0.348958  \n",
              "std      4.825375    0.331329   11.760232    0.476951  \n",
              "min     18.200000    0.078000   21.000000    0.000000  \n",
              "25%     27.500000    0.243750   24.000000    0.000000  \n",
              "50%     32.000000    0.372500   29.000000    0.000000  \n",
              "75%     34.125000    0.626250   41.000000    1.000000  \n",
              "max     40.000000    2.420000   81.000000    1.000000  "
            ],
            "text/html": [
              "\n",
              "  <div id=\"df-0232aa10-cca9-48b3-a997-96bc13630741\">\n",
              "    <div class=\"colab-df-container\">\n",
              "      <div>\n",
              "<style scoped>\n",
              "    .dataframe tbody tr th:only-of-type {\n",
              "        vertical-align: middle;\n",
              "    }\n",
              "\n",
              "    .dataframe tbody tr th {\n",
              "        vertical-align: top;\n",
              "    }\n",
              "\n",
              "    .dataframe thead th {\n",
              "        text-align: right;\n",
              "    }\n",
              "</style>\n",
              "<table border=\"1\" class=\"dataframe\">\n",
              "  <thead>\n",
              "    <tr style=\"text-align: right;\">\n",
              "      <th></th>\n",
              "      <th>Num_pregnant</th>\n",
              "      <th>Gluc_concent</th>\n",
              "      <th>Blood_press</th>\n",
              "      <th>Triceps</th>\n",
              "      <th>Insulin</th>\n",
              "      <th>BMI</th>\n",
              "      <th>Pedigree</th>\n",
              "      <th>Age</th>\n",
              "      <th>Diagnosis</th>\n",
              "    </tr>\n",
              "  </thead>\n",
              "  <tbody>\n",
              "    <tr>\n",
              "      <th>count</th>\n",
              "      <td>768.000000</td>\n",
              "      <td>768.000000</td>\n",
              "      <td>768.000000</td>\n",
              "      <td>768.000000</td>\n",
              "      <td>768.000000</td>\n",
              "      <td>768.000000</td>\n",
              "      <td>768.000000</td>\n",
              "      <td>768.000000</td>\n",
              "      <td>768.000000</td>\n",
              "    </tr>\n",
              "    <tr>\n",
              "      <th>mean</th>\n",
              "      <td>3.845052</td>\n",
              "      <td>121.656250</td>\n",
              "      <td>74.608073</td>\n",
              "      <td>25.190104</td>\n",
              "      <td>74.713867</td>\n",
              "      <td>30.852474</td>\n",
              "      <td>0.471876</td>\n",
              "      <td>33.240885</td>\n",
              "      <td>0.348958</td>\n",
              "    </tr>\n",
              "    <tr>\n",
              "      <th>std</th>\n",
              "      <td>3.369578</td>\n",
              "      <td>30.438286</td>\n",
              "      <td>9.534336</td>\n",
              "      <td>6.388166</td>\n",
              "      <td>65.082266</td>\n",
              "      <td>4.825375</td>\n",
              "      <td>0.331329</td>\n",
              "      <td>11.760232</td>\n",
              "      <td>0.476951</td>\n",
              "    </tr>\n",
              "    <tr>\n",
              "      <th>min</th>\n",
              "      <td>0.000000</td>\n",
              "      <td>44.000000</td>\n",
              "      <td>60.000000</td>\n",
              "      <td>10.000000</td>\n",
              "      <td>14.000000</td>\n",
              "      <td>18.200000</td>\n",
              "      <td>0.078000</td>\n",
              "      <td>21.000000</td>\n",
              "      <td>0.000000</td>\n",
              "    </tr>\n",
              "    <tr>\n",
              "      <th>25%</th>\n",
              "      <td>1.000000</td>\n",
              "      <td>99.750000</td>\n",
              "      <td>68.000000</td>\n",
              "      <td>23.000000</td>\n",
              "      <td>30.500000</td>\n",
              "      <td>27.500000</td>\n",
              "      <td>0.243750</td>\n",
              "      <td>24.000000</td>\n",
              "      <td>0.000000</td>\n",
              "    </tr>\n",
              "    <tr>\n",
              "      <th>50%</th>\n",
              "      <td>3.000000</td>\n",
              "      <td>117.000000</td>\n",
              "      <td>72.000000</td>\n",
              "      <td>23.000000</td>\n",
              "      <td>30.875000</td>\n",
              "      <td>32.000000</td>\n",
              "      <td>0.372500</td>\n",
              "      <td>29.000000</td>\n",
              "      <td>0.000000</td>\n",
              "    </tr>\n",
              "    <tr>\n",
              "      <th>75%</th>\n",
              "      <td>6.000000</td>\n",
              "      <td>140.250000</td>\n",
              "      <td>80.000000</td>\n",
              "      <td>29.000000</td>\n",
              "      <td>106.500000</td>\n",
              "      <td>34.125000</td>\n",
              "      <td>0.626250</td>\n",
              "      <td>41.000000</td>\n",
              "      <td>1.000000</td>\n",
              "    </tr>\n",
              "    <tr>\n",
              "      <th>max</th>\n",
              "      <td>17.000000</td>\n",
              "      <td>199.000000</td>\n",
              "      <td>122.000000</td>\n",
              "      <td>40.000000</td>\n",
              "      <td>300.000000</td>\n",
              "      <td>40.000000</td>\n",
              "      <td>2.420000</td>\n",
              "      <td>81.000000</td>\n",
              "      <td>1.000000</td>\n",
              "    </tr>\n",
              "  </tbody>\n",
              "</table>\n",
              "</div>\n",
              "      <button class=\"colab-df-convert\" onclick=\"convertToInteractive('df-0232aa10-cca9-48b3-a997-96bc13630741')\"\n",
              "              title=\"Convert this dataframe to an interactive table.\"\n",
              "              style=\"display:none;\">\n",
              "        \n",
              "  <svg xmlns=\"http://www.w3.org/2000/svg\" height=\"24px\"viewBox=\"0 0 24 24\"\n",
              "       width=\"24px\">\n",
              "    <path d=\"M0 0h24v24H0V0z\" fill=\"none\"/>\n",
              "    <path d=\"M18.56 5.44l.94 2.06.94-2.06 2.06-.94-2.06-.94-.94-2.06-.94 2.06-2.06.94zm-11 1L8.5 8.5l.94-2.06 2.06-.94-2.06-.94L8.5 2.5l-.94 2.06-2.06.94zm10 10l.94 2.06.94-2.06 2.06-.94-2.06-.94-.94-2.06-.94 2.06-2.06.94z\"/><path d=\"M17.41 7.96l-1.37-1.37c-.4-.4-.92-.59-1.43-.59-.52 0-1.04.2-1.43.59L10.3 9.45l-7.72 7.72c-.78.78-.78 2.05 0 2.83L4 21.41c.39.39.9.59 1.41.59.51 0 1.02-.2 1.41-.59l7.78-7.78 2.81-2.81c.8-.78.8-2.07 0-2.86zM5.41 20L4 18.59l7.72-7.72 1.47 1.35L5.41 20z\"/>\n",
              "  </svg>\n",
              "      </button>\n",
              "      \n",
              "  <style>\n",
              "    .colab-df-container {\n",
              "      display:flex;\n",
              "      flex-wrap:wrap;\n",
              "      gap: 12px;\n",
              "    }\n",
              "\n",
              "    .colab-df-convert {\n",
              "      background-color: #E8F0FE;\n",
              "      border: none;\n",
              "      border-radius: 50%;\n",
              "      cursor: pointer;\n",
              "      display: none;\n",
              "      fill: #1967D2;\n",
              "      height: 32px;\n",
              "      padding: 0 0 0 0;\n",
              "      width: 32px;\n",
              "    }\n",
              "\n",
              "    .colab-df-convert:hover {\n",
              "      background-color: #E2EBFA;\n",
              "      box-shadow: 0px 1px 2px rgba(60, 64, 67, 0.3), 0px 1px 3px 1px rgba(60, 64, 67, 0.15);\n",
              "      fill: #174EA6;\n",
              "    }\n",
              "\n",
              "    [theme=dark] .colab-df-convert {\n",
              "      background-color: #3B4455;\n",
              "      fill: #D2E3FC;\n",
              "    }\n",
              "\n",
              "    [theme=dark] .colab-df-convert:hover {\n",
              "      background-color: #434B5C;\n",
              "      box-shadow: 0px 1px 3px 1px rgba(0, 0, 0, 0.15);\n",
              "      filter: drop-shadow(0px 1px 2px rgba(0, 0, 0, 0.3));\n",
              "      fill: #FFFFFF;\n",
              "    }\n",
              "  </style>\n",
              "\n",
              "      <script>\n",
              "        const buttonEl =\n",
              "          document.querySelector('#df-0232aa10-cca9-48b3-a997-96bc13630741 button.colab-df-convert');\n",
              "        buttonEl.style.display =\n",
              "          google.colab.kernel.accessAllowed ? 'block' : 'none';\n",
              "\n",
              "        async function convertToInteractive(key) {\n",
              "          const element = document.querySelector('#df-0232aa10-cca9-48b3-a997-96bc13630741');\n",
              "          const dataTable =\n",
              "            await google.colab.kernel.invokeFunction('convertToInteractive',\n",
              "                                                     [key], {});\n",
              "          if (!dataTable) return;\n",
              "\n",
              "          const docLinkHtml = 'Like what you see? Visit the ' +\n",
              "            '<a target=\"_blank\" href=https://colab.research.google.com/notebooks/data_table.ipynb>data table notebook</a>'\n",
              "            + ' to learn more about interactive tables.';\n",
              "          element.innerHTML = '';\n",
              "          dataTable['output_type'] = 'display_data';\n",
              "          await google.colab.output.renderOutput(dataTable, element);\n",
              "          const docLink = document.createElement('div');\n",
              "          docLink.innerHTML = docLinkHtml;\n",
              "          element.appendChild(docLink);\n",
              "        }\n",
              "      </script>\n",
              "    </div>\n",
              "  </div>\n",
              "  "
            ]
          },
          "metadata": {},
          "execution_count": 25
        }
      ],
      "source": [
        "diabetes.describe()"
      ]
    },
    {
      "cell_type": "markdown",
      "metadata": {
        "id": "wiwkDqK_9nc3"
      },
      "source": [
        "Vuelva a ejecutar el siguiento comando para la visualización de datos:"
      ]
    },
    {
      "cell_type": "code",
      "execution_count": 26,
      "metadata": {
        "id": "Vw5tNoZj9nc3",
        "colab": {
          "base_uri": "https://localhost:8080/",
          "height": 1000
        },
        "outputId": "de8a7fe2-5e47-4422-d404-86299d489995"
      },
      "outputs": [
        {
          "output_type": "display_data",
          "data": {
            "text/plain": [
              "<Figure size 2000x1500 with 9 Axes>"
            ],
            "image/png": "[encoded data removed]"
          },
          "metadata": {}
        }
      ],
      "source": [
        "import matplotlib.pyplot as plt\n",
        "diabetes.hist(bins = 50, figsize=(20, 15))\n",
        "plt.show()"
      ]
    },
    {
      "cell_type": "markdown",
      "metadata": {
        "id": "j-DlSEa99nc4"
      },
      "source": [
        "### Normalizado del dataset"
      ]
    },
    {
      "cell_type": "markdown",
      "source": [
        "Normalizar el dataset para su uso en ciertos algoritmos de Machine Learning se convierte en tarea imprescindible"
      ],
      "metadata": {
        "id": "jJ1sscKtcah3"
      }
    },
    {
      "cell_type": "markdown",
      "metadata": {
        "id": "HiCnS6OR9nc4"
      },
      "source": [
        "### Sexta pregunta (2 puntos)"
      ]
    },
    {
      "cell_type": "markdown",
      "metadata": {
        "id": "IHE32QsF9nc5"
      },
      "source": [
        "### a) Escale las caracteríticas del dataset que considere necesarias entre `0` y `1` para su posterior uso en una regresión logítica binaria. (1 puntos)"
      ]
    },
    {
      "cell_type": "markdown",
      "metadata": {
        "id": "1svgko-a9nc5"
      },
      "source": [
        "#### Pista: para hacerlo rápidamente, puede definir una lista `cols_to_norm` con las columnas a normalizar e incluir la función a usar en el escalado e iterar en bucle:"
      ]
    },
    {
      "cell_type": "code",
      "execution_count": 27,
      "metadata": {
        "id": "ZlGfDSD69nc5"
      },
      "outputs": [],
      "source": [
        "cols_to_norm = ['Num_pregnant', 'Gluc_concent', 'Blood_press', 'Triceps', 'Insulin', 'BMI', 'Age', 'Pedigree']"
      ]
    },
    {
      "cell_type": "raw",
      "metadata": {
        "id": "0Ti0lRa29nc6"
      },
      "source": [
        "cols_to_norm = [ ... ]"
      ]
    },
    {
      "cell_type": "code",
      "execution_count": 28,
      "metadata": {
        "id": "QtmOAPrJ9nc6"
      },
      "outputs": [],
      "source": [
        "for item in cols_to_norm:\n",
        "    diabetes[item]= (diabetes[item] - np.min(diabetes[item]))/(np.max(diabetes[item]) - np.min(diabetes[item]))"
      ]
    },
    {
      "cell_type": "markdown",
      "metadata": {
        "id": "9p54dRYL9nc6"
      },
      "source": [
        "Ejecute de nuevo los siguientes comandos:"
      ]
    },
    {
      "cell_type": "code",
      "execution_count": 29,
      "metadata": {
        "id": "YPqxKct59nc6",
        "colab": {
          "base_uri": "https://localhost:8080/",
          "height": 363
        },
        "outputId": "9a78fa1a-b1ba-4ebe-bfe0-b3096648ca5f"
      },
      "outputs": [
        {
          "output_type": "execute_result",
          "data": {
            "text/plain": [
              "   Num_pregnant  Gluc_concent  Blood_press   Triceps   Insulin       BMI  \\\n",
              "0      0.352941      0.670968     0.193548  0.833333  0.057692  0.706422   \n",
              "1      0.058824      0.264516     0.096774  0.633333  0.057692  0.385321   \n",
              "2      0.470588      0.896774     0.064516  0.433333  0.057692  0.233945   \n",
              "3      0.058824      0.290323     0.096774  0.433333  0.279720  0.454128   \n",
              "4      0.000000      0.600000     0.193548  0.833333  0.538462  0.633028   \n",
              "5      0.294118      0.464516     0.225806  0.433333  0.057692  0.339450   \n",
              "6      0.176471      0.219355     0.193548  0.733333  0.258741  0.587156   \n",
              "7      0.588235      0.458065     0.193548  0.433333  0.057692  0.784404   \n",
              "8      0.117647      0.987097     0.161290  0.433333  0.060315  0.564220   \n",
              "9      0.470588      0.522581     0.580645  0.433333  0.057692  0.633028   \n",
              "\n",
              "   Pedigree       Age  Diagnosis  \n",
              "0  0.234415  0.483333          1  \n",
              "1  0.116567  0.166667          0  \n",
              "2  0.253629  0.183333          1  \n",
              "3  0.038002  0.000000          0  \n",
              "4  0.943638  0.200000          1  \n",
              "5  0.052519  0.150000          0  \n",
              "6  0.072588  0.083333          1  \n",
              "7  0.023911  0.133333          0  \n",
              "8  0.034159  0.533333          1  \n",
              "9  0.065756  0.550000          1  "
            ],
            "text/html": [
              "\n",
              "  <div id=\"df-f9c0556f-71d3-4295-a38c-baad5786c57f\">\n",
              "    <div class=\"colab-df-container\">\n",
              "      <div>\n",
              "<style scoped>\n",
              "    .dataframe tbody tr th:only-of-type {\n",
              "        vertical-align: middle;\n",
              "    }\n",
              "\n",
              "    .dataframe tbody tr th {\n",
              "        vertical-align: top;\n",
              "    }\n",
              "\n",
              "    .dataframe thead th {\n",
              "        text-align: right;\n",
              "    }\n",
              "</style>\n",
              "<table border=\"1\" class=\"dataframe\">\n",
              "  <thead>\n",
              "    <tr style=\"text-align: right;\">\n",
              "      <th></th>\n",
              "      <th>Num_pregnant</th>\n",
              "      <th>Gluc_concent</th>\n",
              "      <th>Blood_press</th>\n",
              "      <th>Triceps</th>\n",
              "      <th>Insulin</th>\n",
              "      <th>BMI</th>\n",
              "      <th>Pedigree</th>\n",
              "      <th>Age</th>\n",
              "      <th>Diagnosis</th>\n",
              "    </tr>\n",
              "  </thead>\n",
              "  <tbody>\n",
              "    <tr>\n",
              "      <th>0</th>\n",
              "      <td>0.352941</td>\n",
              "      <td>0.670968</td>\n",
              "      <td>0.193548</td>\n",
              "      <td>0.833333</td>\n",
              "      <td>0.057692</td>\n",
              "      <td>0.706422</td>\n",
              "      <td>0.234415</td>\n",
              "      <td>0.483333</td>\n",
              "      <td>1</td>\n",
              "    </tr>\n",
              "    <tr>\n",
              "      <th>1</th>\n",
              "      <td>0.058824</td>\n",
              "      <td>0.264516</td>\n",
              "      <td>0.096774</td>\n",
              "      <td>0.633333</td>\n",
              "      <td>0.057692</td>\n",
              "      <td>0.385321</td>\n",
              "      <td>0.116567</td>\n",
              "      <td>0.166667</td>\n",
              "      <td>0</td>\n",
              "    </tr>\n",
              "    <tr>\n",
              "      <th>2</th>\n",
              "      <td>0.470588</td>\n",
              "      <td>0.896774</td>\n",
              "      <td>0.064516</td>\n",
              "      <td>0.433333</td>\n",
              "      <td>0.057692</td>\n",
              "      <td>0.233945</td>\n",
              "      <td>0.253629</td>\n",
              "      <td>0.183333</td>\n",
              "      <td>1</td>\n",
              "    </tr>\n",
              "    <tr>\n",
              "      <th>3</th>\n",
              "      <td>0.058824</td>\n",
              "      <td>0.290323</td>\n",
              "      <td>0.096774</td>\n",
              "      <td>0.433333</td>\n",
              "      <td>0.279720</td>\n",
              "      <td>0.454128</td>\n",
              "      <td>0.038002</td>\n",
              "      <td>0.000000</td>\n",
              "      <td>0</td>\n",
              "    </tr>\n",
              "    <tr>\n",
              "      <th>4</th>\n",
              "      <td>0.000000</td>\n",
              "      <td>0.600000</td>\n",
              "      <td>0.193548</td>\n",
              "      <td>0.833333</td>\n",
              "      <td>0.538462</td>\n",
              "      <td>0.633028</td>\n",
              "      <td>0.943638</td>\n",
              "      <td>0.200000</td>\n",
              "      <td>1</td>\n",
              "    </tr>\n",
              "    <tr>\n",
              "      <th>5</th>\n",
              "      <td>0.294118</td>\n",
              "      <td>0.464516</td>\n",
              "      <td>0.225806</td>\n",
              "      <td>0.433333</td>\n",
              "      <td>0.057692</td>\n",
              "      <td>0.339450</td>\n",
              "      <td>0.052519</td>\n",
              "      <td>0.150000</td>\n",
              "      <td>0</td>\n",
              "    </tr>\n",
              "    <tr>\n",
              "      <th>6</th>\n",
              "      <td>0.176471</td>\n",
              "      <td>0.219355</td>\n",
              "      <td>0.193548</td>\n",
              "      <td>0.733333</td>\n",
              "      <td>0.258741</td>\n",
              "      <td>0.587156</td>\n",
              "      <td>0.072588</td>\n",
              "      <td>0.083333</td>\n",
              "      <td>1</td>\n",
              "    </tr>\n",
              "    <tr>\n",
              "      <th>7</th>\n",
              "      <td>0.588235</td>\n",
              "      <td>0.458065</td>\n",
              "      <td>0.193548</td>\n",
              "      <td>0.433333</td>\n",
              "      <td>0.057692</td>\n",
              "      <td>0.784404</td>\n",
              "      <td>0.023911</td>\n",
              "      <td>0.133333</td>\n",
              "      <td>0</td>\n",
              "    </tr>\n",
              "    <tr>\n",
              "      <th>8</th>\n",
              "      <td>0.117647</td>\n",
              "      <td>0.987097</td>\n",
              "      <td>0.161290</td>\n",
              "      <td>0.433333</td>\n",
              "      <td>0.060315</td>\n",
              "      <td>0.564220</td>\n",
              "      <td>0.034159</td>\n",
              "      <td>0.533333</td>\n",
              "      <td>1</td>\n",
              "    </tr>\n",
              "    <tr>\n",
              "      <th>9</th>\n",
              "      <td>0.470588</td>\n",
              "      <td>0.522581</td>\n",
              "      <td>0.580645</td>\n",
              "      <td>0.433333</td>\n",
              "      <td>0.057692</td>\n",
              "      <td>0.633028</td>\n",
              "      <td>0.065756</td>\n",
              "      <td>0.550000</td>\n",
              "      <td>1</td>\n",
              "    </tr>\n",
              "  </tbody>\n",
              "</table>\n",
              "</div>\n",
              "      <button class=\"colab-df-convert\" onclick=\"convertToInteractive('df-f9c0556f-71d3-4295-a38c-baad5786c57f')\"\n",
              "              title=\"Convert this dataframe to an interactive table.\"\n",
              "              style=\"display:none;\">\n",
              "        \n",
              "  <svg xmlns=\"http://www.w3.org/2000/svg\" height=\"24px\"viewBox=\"0 0 24 24\"\n",
              "       width=\"24px\">\n",
              "    <path d=\"M0 0h24v24H0V0z\" fill=\"none\"/>\n",
              "    <path d=\"M18.56 5.44l.94 2.06.94-2.06 2.06-.94-2.06-.94-.94-2.06-.94 2.06-2.06.94zm-11 1L8.5 8.5l.94-2.06 2.06-.94-2.06-.94L8.5 2.5l-.94 2.06-2.06.94zm10 10l.94 2.06.94-2.06 2.06-.94-2.06-.94-.94-2.06-.94 2.06-2.06.94z\"/><path d=\"M17.41 7.96l-1.37-1.37c-.4-.4-.92-.59-1.43-.59-.52 0-1.04.2-1.43.59L10.3 9.45l-7.72 7.72c-.78.78-.78 2.05 0 2.83L4 21.41c.39.39.9.59 1.41.59.51 0 1.02-.2 1.41-.59l7.78-7.78 2.81-2.81c.8-.78.8-2.07 0-2.86zM5.41 20L4 18.59l7.72-7.72 1.47 1.35L5.41 20z\"/>\n",
              "  </svg>\n",
              "      </button>\n",
              "      \n",
              "  <style>\n",
              "    .colab-df-container {\n",
              "      display:flex;\n",
              "      flex-wrap:wrap;\n",
              "      gap: 12px;\n",
              "    }\n",
              "\n",
              "    .colab-df-convert {\n",
              "      background-color: #E8F0FE;\n",
              "      border: none;\n",
              "      border-radius: 50%;\n",
              "      cursor: pointer;\n",
              "      display: none;\n",
              "      fill: #1967D2;\n",
              "      height: 32px;\n",
              "      padding: 0 0 0 0;\n",
              "      width: 32px;\n",
              "    }\n",
              "\n",
              "    .colab-df-convert:hover {\n",
              "      background-color: #E2EBFA;\n",
              "      box-shadow: 0px 1px 2px rgba(60, 64, 67, 0.3), 0px 1px 3px 1px rgba(60, 64, 67, 0.15);\n",
              "      fill: #174EA6;\n",
              "    }\n",
              "\n",
              "    [theme=dark] .colab-df-convert {\n",
              "      background-color: #3B4455;\n",
              "      fill: #D2E3FC;\n",
              "    }\n",
              "\n",
              "    [theme=dark] .colab-df-convert:hover {\n",
              "      background-color: #434B5C;\n",
              "      box-shadow: 0px 1px 3px 1px rgba(0, 0, 0, 0.15);\n",
              "      filter: drop-shadow(0px 1px 2px rgba(0, 0, 0, 0.3));\n",
              "      fill: #FFFFFF;\n",
              "    }\n",
              "  </style>\n",
              "\n",
              "      <script>\n",
              "        const buttonEl =\n",
              "          document.querySelector('#df-f9c0556f-71d3-4295-a38c-baad5786c57f button.colab-df-convert');\n",
              "        buttonEl.style.display =\n",
              "          google.colab.kernel.accessAllowed ? 'block' : 'none';\n",
              "\n",
              "        async function convertToInteractive(key) {\n",
              "          const element = document.querySelector('#df-f9c0556f-71d3-4295-a38c-baad5786c57f');\n",
              "          const dataTable =\n",
              "            await google.colab.kernel.invokeFunction('convertToInteractive',\n",
              "                                                     [key], {});\n",
              "          if (!dataTable) return;\n",
              "\n",
              "          const docLinkHtml = 'Like what you see? Visit the ' +\n",
              "            '<a target=\"_blank\" href=https://colab.research.google.com/notebooks/data_table.ipynb>data table notebook</a>'\n",
              "            + ' to learn more about interactive tables.';\n",
              "          element.innerHTML = '';\n",
              "          dataTable['output_type'] = 'display_data';\n",
              "          await google.colab.output.renderOutput(dataTable, element);\n",
              "          const docLink = document.createElement('div');\n",
              "          docLink.innerHTML = docLinkHtml;\n",
              "          element.appendChild(docLink);\n",
              "        }\n",
              "      </script>\n",
              "    </div>\n",
              "  </div>\n",
              "  "
            ]
          },
          "metadata": {},
          "execution_count": 29
        }
      ],
      "source": [
        "diabetes.head(n=10)"
      ]
    },
    {
      "cell_type": "code",
      "execution_count": 30,
      "metadata": {
        "id": "R4CDNq-l9nc7",
        "colab": {
          "base_uri": "https://localhost:8080/",
          "height": 300
        },
        "outputId": "272591a6-fa9f-45cc-cbb2-440b9863ed75"
      },
      "outputs": [
        {
          "output_type": "execute_result",
          "data": {
            "text/plain": [
              "       Num_pregnant  Gluc_concent  Blood_press     Triceps     Insulin  \\\n",
              "count    768.000000    768.000000   768.000000  768.000000  768.000000   \n",
              "mean       0.226180      0.501008     0.235614    0.506337    0.212286   \n",
              "std        0.198210      0.196376     0.153780    0.212939    0.227560   \n",
              "min        0.000000      0.000000     0.000000    0.000000    0.000000   \n",
              "25%        0.058824      0.359677     0.129032    0.433333    0.057692   \n",
              "50%        0.176471      0.470968     0.193548    0.433333    0.059003   \n",
              "75%        0.352941      0.620968     0.322581    0.633333    0.323427   \n",
              "max        1.000000      1.000000     1.000000    1.000000    1.000000   \n",
              "\n",
              "              BMI    Pedigree         Age   Diagnosis  \n",
              "count  768.000000  768.000000  768.000000  768.000000  \n",
              "mean     0.580389    0.168179    0.204015    0.348958  \n",
              "std      0.221347    0.141473    0.196004    0.476951  \n",
              "min      0.000000    0.000000    0.000000    0.000000  \n",
              "25%      0.426606    0.070773    0.050000    0.000000  \n",
              "50%      0.633028    0.125747    0.133333    0.000000  \n",
              "75%      0.730505    0.234095    0.333333    1.000000  \n",
              "max      1.000000    1.000000    1.000000    1.000000  "
            ],
            "text/html": [
              "\n",
              "  <div id=\"df-bbebc2c6-2f98-409a-9c73-588ac4228aad\">\n",
              "    <div class=\"colab-df-container\">\n",
              "      <div>\n",
              "<style scoped>\n",
              "    .dataframe tbody tr th:only-of-type {\n",
              "        vertical-align: middle;\n",
              "    }\n",
              "\n",
              "    .dataframe tbody tr th {\n",
              "        vertical-align: top;\n",
              "    }\n",
              "\n",
              "    .dataframe thead th {\n",
              "        text-align: right;\n",
              "    }\n",
              "</style>\n",
              "<table border=\"1\" class=\"dataframe\">\n",
              "  <thead>\n",
              "    <tr style=\"text-align: right;\">\n",
              "      <th></th>\n",
              "      <th>Num_pregnant</th>\n",
              "      <th>Gluc_concent</th>\n",
              "      <th>Blood_press</th>\n",
              "      <th>Triceps</th>\n",
              "      <th>Insulin</th>\n",
              "      <th>BMI</th>\n",
              "      <th>Pedigree</th>\n",
              "      <th>Age</th>\n",
              "      <th>Diagnosis</th>\n",
              "    </tr>\n",
              "  </thead>\n",
              "  <tbody>\n",
              "    <tr>\n",
              "      <th>count</th>\n",
              "      <td>768.000000</td>\n",
              "      <td>768.000000</td>\n",
              "      <td>768.000000</td>\n",
              "      <td>768.000000</td>\n",
              "      <td>768.000000</td>\n",
              "      <td>768.000000</td>\n",
              "      <td>768.000000</td>\n",
              "      <td>768.000000</td>\n",
              "      <td>768.000000</td>\n",
              "    </tr>\n",
              "    <tr>\n",
              "      <th>mean</th>\n",
              "      <td>0.226180</td>\n",
              "      <td>0.501008</td>\n",
              "      <td>0.235614</td>\n",
              "      <td>0.506337</td>\n",
              "      <td>0.212286</td>\n",
              "      <td>0.580389</td>\n",
              "      <td>0.168179</td>\n",
              "      <td>0.204015</td>\n",
              "      <td>0.348958</td>\n",
              "    </tr>\n",
              "    <tr>\n",
              "      <th>std</th>\n",
              "      <td>0.198210</td>\n",
              "      <td>0.196376</td>\n",
              "      <td>0.153780</td>\n",
              "      <td>0.212939</td>\n",
              "      <td>0.227560</td>\n",
              "      <td>0.221347</td>\n",
              "      <td>0.141473</td>\n",
              "      <td>0.196004</td>\n",
              "      <td>0.476951</td>\n",
              "    </tr>\n",
              "    <tr>\n",
              "      <th>min</th>\n",
              "      <td>0.000000</td>\n",
              "      <td>0.000000</td>\n",
              "      <td>0.000000</td>\n",
              "      <td>0.000000</td>\n",
              "      <td>0.000000</td>\n",
              "      <td>0.000000</td>\n",
              "      <td>0.000000</td>\n",
              "      <td>0.000000</td>\n",
              "      <td>0.000000</td>\n",
              "    </tr>\n",
              "    <tr>\n",
              "      <th>25%</th>\n",
              "      <td>0.058824</td>\n",
              "      <td>0.359677</td>\n",
              "      <td>0.129032</td>\n",
              "      <td>0.433333</td>\n",
              "      <td>0.057692</td>\n",
              "      <td>0.426606</td>\n",
              "      <td>0.070773</td>\n",
              "      <td>0.050000</td>\n",
              "      <td>0.000000</td>\n",
              "    </tr>\n",
              "    <tr>\n",
              "      <th>50%</th>\n",
              "      <td>0.176471</td>\n",
              "      <td>0.470968</td>\n",
              "      <td>0.193548</td>\n",
              "      <td>0.433333</td>\n",
              "      <td>0.059003</td>\n",
              "      <td>0.633028</td>\n",
              "      <td>0.125747</td>\n",
              "      <td>0.133333</td>\n",
              "      <td>0.000000</td>\n",
              "    </tr>\n",
              "    <tr>\n",
              "      <th>75%</th>\n",
              "      <td>0.352941</td>\n",
              "      <td>0.620968</td>\n",
              "      <td>0.322581</td>\n",
              "      <td>0.633333</td>\n",
              "      <td>0.323427</td>\n",
              "      <td>0.730505</td>\n",
              "      <td>0.234095</td>\n",
              "      <td>0.333333</td>\n",
              "      <td>1.000000</td>\n",
              "    </tr>\n",
              "    <tr>\n",
              "      <th>max</th>\n",
              "      <td>1.000000</td>\n",
              "      <td>1.000000</td>\n",
              "      <td>1.000000</td>\n",
              "      <td>1.000000</td>\n",
              "      <td>1.000000</td>\n",
              "      <td>1.000000</td>\n",
              "      <td>1.000000</td>\n",
              "      <td>1.000000</td>\n",
              "      <td>1.000000</td>\n",
              "    </tr>\n",
              "  </tbody>\n",
              "</table>\n",
              "</div>\n",
              "      <button class=\"colab-df-convert\" onclick=\"convertToInteractive('df-bbebc2c6-2f98-409a-9c73-588ac4228aad')\"\n",
              "              title=\"Convert this dataframe to an interactive table.\"\n",
              "              style=\"display:none;\">\n",
              "        \n",
              "  <svg xmlns=\"http://www.w3.org/2000/svg\" height=\"24px\"viewBox=\"0 0 24 24\"\n",
              "       width=\"24px\">\n",
              "    <path d=\"M0 0h24v24H0V0z\" fill=\"none\"/>\n",
              "    <path d=\"M18.56 5.44l.94 2.06.94-2.06 2.06-.94-2.06-.94-.94-2.06-.94 2.06-2.06.94zm-11 1L8.5 8.5l.94-2.06 2.06-.94-2.06-.94L8.5 2.5l-.94 2.06-2.06.94zm10 10l.94 2.06.94-2.06 2.06-.94-2.06-.94-.94-2.06-.94 2.06-2.06.94z\"/><path d=\"M17.41 7.96l-1.37-1.37c-.4-.4-.92-.59-1.43-.59-.52 0-1.04.2-1.43.59L10.3 9.45l-7.72 7.72c-.78.78-.78 2.05 0 2.83L4 21.41c.39.39.9.59 1.41.59.51 0 1.02-.2 1.41-.59l7.78-7.78 2.81-2.81c.8-.78.8-2.07 0-2.86zM5.41 20L4 18.59l7.72-7.72 1.47 1.35L5.41 20z\"/>\n",
              "  </svg>\n",
              "      </button>\n",
              "      \n",
              "  <style>\n",
              "    .colab-df-container {\n",
              "      display:flex;\n",
              "      flex-wrap:wrap;\n",
              "      gap: 12px;\n",
              "    }\n",
              "\n",
              "    .colab-df-convert {\n",
              "      background-color: #E8F0FE;\n",
              "      border: none;\n",
              "      border-radius: 50%;\n",
              "      cursor: pointer;\n",
              "      display: none;\n",
              "      fill: #1967D2;\n",
              "      height: 32px;\n",
              "      padding: 0 0 0 0;\n",
              "      width: 32px;\n",
              "    }\n",
              "\n",
              "    .colab-df-convert:hover {\n",
              "      background-color: #E2EBFA;\n",
              "      box-shadow: 0px 1px 2px rgba(60, 64, 67, 0.3), 0px 1px 3px 1px rgba(60, 64, 67, 0.15);\n",
              "      fill: #174EA6;\n",
              "    }\n",
              "\n",
              "    [theme=dark] .colab-df-convert {\n",
              "      background-color: #3B4455;\n",
              "      fill: #D2E3FC;\n",
              "    }\n",
              "\n",
              "    [theme=dark] .colab-df-convert:hover {\n",
              "      background-color: #434B5C;\n",
              "      box-shadow: 0px 1px 3px 1px rgba(0, 0, 0, 0.15);\n",
              "      filter: drop-shadow(0px 1px 2px rgba(0, 0, 0, 0.3));\n",
              "      fill: #FFFFFF;\n",
              "    }\n",
              "  </style>\n",
              "\n",
              "      <script>\n",
              "        const buttonEl =\n",
              "          document.querySelector('#df-bbebc2c6-2f98-409a-9c73-588ac4228aad button.colab-df-convert');\n",
              "        buttonEl.style.display =\n",
              "          google.colab.kernel.accessAllowed ? 'block' : 'none';\n",
              "\n",
              "        async function convertToInteractive(key) {\n",
              "          const element = document.querySelector('#df-bbebc2c6-2f98-409a-9c73-588ac4228aad');\n",
              "          const dataTable =\n",
              "            await google.colab.kernel.invokeFunction('convertToInteractive',\n",
              "                                                     [key], {});\n",
              "          if (!dataTable) return;\n",
              "\n",
              "          const docLinkHtml = 'Like what you see? Visit the ' +\n",
              "            '<a target=\"_blank\" href=https://colab.research.google.com/notebooks/data_table.ipynb>data table notebook</a>'\n",
              "            + ' to learn more about interactive tables.';\n",
              "          element.innerHTML = '';\n",
              "          dataTable['output_type'] = 'display_data';\n",
              "          await google.colab.output.renderOutput(dataTable, element);\n",
              "          const docLink = document.createElement('div');\n",
              "          docLink.innerHTML = docLinkHtml;\n",
              "          element.appendChild(docLink);\n",
              "        }\n",
              "      </script>\n",
              "    </div>\n",
              "  </div>\n",
              "  "
            ]
          },
          "metadata": {},
          "execution_count": 30
        }
      ],
      "source": [
        "diabetes.describe()"
      ]
    },
    {
      "cell_type": "markdown",
      "metadata": {
        "id": "EitRqHf19nc7"
      },
      "source": [
        "### b) ¿Qué destacaría en las dos tablas anteriores?¿Cómo han cambiado los intervalos en los que las características están distribuidas? (0,5 puntos)"
      ]
    },
    {
      "cell_type": "markdown",
      "source": [
        "Lo que destacaría en las dos tablas anteriores es que al haber escalado las variables, se está garantizando una representación más equilibrada y coherente de los datos, lo que facilita el análisis y la comparación de diferentes variables en un mismo contexto, así mismo se logran beneficios importantes como:\n",
        "\n",
        "1.\tEliminación de sesgos de escala\n",
        "2.\tEvitar la dominancia de una variable\n",
        "3.\tEstabilización de la varianza\n",
        "4.\tMejora del rendimiento de los algoritmos\n",
        "\n",
        "\n",
        "En cuanto a cómo han cambiado los intervalos en los que las características están distribuidas después de aplicar la escala, se transformaron las características a un rango o una distribución específicos. Los valores originales se transforman para que estén dentro de un nuevo rango, entre 0 y 1. Los valores más pequeños se escalaron a 0 y los valores más grandes se escalaron a 1.\n"
      ],
      "metadata": {
        "id": "UXX_VrDbkcGg"
      }
    },
    {
      "cell_type": "markdown",
      "metadata": {
        "id": "GSVVVuGH9nc8"
      },
      "source": [
        "### c) ¿Qué otro tipo de escalado aplicaría a las características de nuestro dataset? Impleméntela debajo y justifique su elección. (0,5 puntos)"
      ]
    },
    {
      "cell_type": "code",
      "execution_count": 64,
      "metadata": {
        "id": "9GyqhZ1b9nc8"
      },
      "outputs": [],
      "source": [
        "for item in cols_to_norm:\n",
        "    diabetes[item]= (diabetes[item] - np.median(diabetes[item]))/(np.std(diabetes[item]))"
      ]
    },
    {
      "cell_type": "markdown",
      "source": [
        "Uno de los tipos de escalado que implementaría seria escalado robusto, ya que es una buena opción cuando los datos contienen valores atípicos o tienen una distribución no normal. Al utilizar la mediana y el rango intercuartil, esta técnica es menos sensible a los valores extremos y proporciona una medida más robusta de la escala de los datos."
      ],
      "metadata": {
        "id": "OcFaM5RApWns"
      }
    },
    {
      "cell_type": "code",
      "source": [
        "from sklearn.preprocessing import RobustScaler\n",
        "\n",
        "# Separar características (X) y etiquetas (y)\n",
        "X = diabetes.drop('Diagnosis', axis=1)\n",
        "y = diabetes['Diagnosis']\n",
        "\n",
        "# Inicializar el escalador robusto\n",
        "scaler = RobustScaler()\n",
        "\n",
        "# Escalar las características utilizando el escalador robusto\n",
        "X_scaled = scaler.fit_transform(X)\n",
        "\n",
        "# Crear un nuevo DataFrame con las características escaladas\n",
        "diabetes_scaled = pd.DataFrame(X_scaled, columns=X.columns)\n",
        "\n",
        "# Combinar las características escaladas con las etiquetas\n",
        "diabetes_scaled['Diagnosis'] = y\n",
        "\n",
        "# Guardar el conjunto de datos escalado\n",
        "diabetes_scaled.describe()"
      ],
      "metadata": {
        "colab": {
          "base_uri": "https://localhost:8080/",
          "height": 300
        },
        "id": "xkjUqbhYmx9u",
        "outputId": "94fe0573-4db5-46fc-bc92-27d4bd362385"
      },
      "execution_count": 73,
      "outputs": [
        {
          "output_type": "execute_result",
          "data": {
            "text/plain": [
              "       Num_pregnant  Gluc_concent  Blood_press     Triceps     Insulin  \\\n",
              "count    768.000000    768.000000   768.000000  768.000000  768.000000   \n",
              "mean       0.169010      0.114969     0.217339    0.365017    0.576827   \n",
              "std        0.673916      0.751563     0.794528    1.064694    0.856346   \n",
              "min       -0.600000     -1.802469    -1.000000   -2.166667   -0.222039   \n",
              "25%       -0.400000     -0.425926    -0.333333    0.000000   -0.004934   \n",
              "50%        0.000000      0.000000     0.000000    0.000000    0.000000   \n",
              "75%        0.600000      0.574074     0.666667    1.000000    0.995066   \n",
              "max        2.800000      2.024691     4.166667    2.833333    3.541118   \n",
              "\n",
              "              BMI    Pedigree         Age   Diagnosis  \n",
              "count  768.000000  768.000000  768.000000  768.000000  \n",
              "mean    -0.173211    0.259807    0.249464    0.348958  \n",
              "std      0.728358    0.866219    0.691778    0.476951  \n",
              "min     -2.083019   -0.769935   -0.470588    0.000000  \n",
              "25%     -0.679245   -0.336601   -0.294118    0.000000  \n",
              "50%      0.000000    0.000000    0.000000    0.000000  \n",
              "75%      0.320755    0.663399    0.705882    1.000000  \n",
              "max      1.207547    5.352941    3.058824    1.000000  "
            ],
            "text/html": [
              "\n",
              "  <div id=\"df-79fcb3bc-3b9a-491f-8a52-bd2f74c16f75\">\n",
              "    <div class=\"colab-df-container\">\n",
              "      <div>\n",
              "<style scoped>\n",
              "    .dataframe tbody tr th:only-of-type {\n",
              "        vertical-align: middle;\n",
              "    }\n",
              "\n",
              "    .dataframe tbody tr th {\n",
              "        vertical-align: top;\n",
              "    }\n",
              "\n",
              "    .dataframe thead th {\n",
              "        text-align: right;\n",
              "    }\n",
              "</style>\n",
              "<table border=\"1\" class=\"dataframe\">\n",
              "  <thead>\n",
              "    <tr style=\"text-align: right;\">\n",
              "      <th></th>\n",
              "      <th>Num_pregnant</th>\n",
              "      <th>Gluc_concent</th>\n",
              "      <th>Blood_press</th>\n",
              "      <th>Triceps</th>\n",
              "      <th>Insulin</th>\n",
              "      <th>BMI</th>\n",
              "      <th>Pedigree</th>\n",
              "      <th>Age</th>\n",
              "      <th>Diagnosis</th>\n",
              "    </tr>\n",
              "  </thead>\n",
              "  <tbody>\n",
              "    <tr>\n",
              "      <th>count</th>\n",
              "      <td>768.000000</td>\n",
              "      <td>768.000000</td>\n",
              "      <td>768.000000</td>\n",
              "      <td>768.000000</td>\n",
              "      <td>768.000000</td>\n",
              "      <td>768.000000</td>\n",
              "      <td>768.000000</td>\n",
              "      <td>768.000000</td>\n",
              "      <td>768.000000</td>\n",
              "    </tr>\n",
              "    <tr>\n",
              "      <th>mean</th>\n",
              "      <td>0.169010</td>\n",
              "      <td>0.114969</td>\n",
              "      <td>0.217339</td>\n",
              "      <td>0.365017</td>\n",
              "      <td>0.576827</td>\n",
              "      <td>-0.173211</td>\n",
              "      <td>0.259807</td>\n",
              "      <td>0.249464</td>\n",
              "      <td>0.348958</td>\n",
              "    </tr>\n",
              "    <tr>\n",
              "      <th>std</th>\n",
              "      <td>0.673916</td>\n",
              "      <td>0.751563</td>\n",
              "      <td>0.794528</td>\n",
              "      <td>1.064694</td>\n",
              "      <td>0.856346</td>\n",
              "      <td>0.728358</td>\n",
              "      <td>0.866219</td>\n",
              "      <td>0.691778</td>\n",
              "      <td>0.476951</td>\n",
              "    </tr>\n",
              "    <tr>\n",
              "      <th>min</th>\n",
              "      <td>-0.600000</td>\n",
              "      <td>-1.802469</td>\n",
              "      <td>-1.000000</td>\n",
              "      <td>-2.166667</td>\n",
              "      <td>-0.222039</td>\n",
              "      <td>-2.083019</td>\n",
              "      <td>-0.769935</td>\n",
              "      <td>-0.470588</td>\n",
              "      <td>0.000000</td>\n",
              "    </tr>\n",
              "    <tr>\n",
              "      <th>25%</th>\n",
              "      <td>-0.400000</td>\n",
              "      <td>-0.425926</td>\n",
              "      <td>-0.333333</td>\n",
              "      <td>0.000000</td>\n",
              "      <td>-0.004934</td>\n",
              "      <td>-0.679245</td>\n",
              "      <td>-0.336601</td>\n",
              "      <td>-0.294118</td>\n",
              "      <td>0.000000</td>\n",
              "    </tr>\n",
              "    <tr>\n",
              "      <th>50%</th>\n",
              "      <td>0.000000</td>\n",
              "      <td>0.000000</td>\n",
              "      <td>0.000000</td>\n",
              "      <td>0.000000</td>\n",
              "      <td>0.000000</td>\n",
              "      <td>0.000000</td>\n",
              "      <td>0.000000</td>\n",
              "      <td>0.000000</td>\n",
              "      <td>0.000000</td>\n",
              "    </tr>\n",
              "    <tr>\n",
              "      <th>75%</th>\n",
              "      <td>0.600000</td>\n",
              "      <td>0.574074</td>\n",
              "      <td>0.666667</td>\n",
              "      <td>1.000000</td>\n",
              "      <td>0.995066</td>\n",
              "      <td>0.320755</td>\n",
              "      <td>0.663399</td>\n",
              "      <td>0.705882</td>\n",
              "      <td>1.000000</td>\n",
              "    </tr>\n",
              "    <tr>\n",
              "      <th>max</th>\n",
              "      <td>2.800000</td>\n",
              "      <td>2.024691</td>\n",
              "      <td>4.166667</td>\n",
              "      <td>2.833333</td>\n",
              "      <td>3.541118</td>\n",
              "      <td>1.207547</td>\n",
              "      <td>5.352941</td>\n",
              "      <td>3.058824</td>\n",
              "      <td>1.000000</td>\n",
              "    </tr>\n",
              "  </tbody>\n",
              "</table>\n",
              "</div>\n",
              "      <button class=\"colab-df-convert\" onclick=\"convertToInteractive('df-79fcb3bc-3b9a-491f-8a52-bd2f74c16f75')\"\n",
              "              title=\"Convert this dataframe to an interactive table.\"\n",
              "              style=\"display:none;\">\n",
              "        \n",
              "  <svg xmlns=\"http://www.w3.org/2000/svg\" height=\"24px\"viewBox=\"0 0 24 24\"\n",
              "       width=\"24px\">\n",
              "    <path d=\"M0 0h24v24H0V0z\" fill=\"none\"/>\n",
              "    <path d=\"M18.56 5.44l.94 2.06.94-2.06 2.06-.94-2.06-.94-.94-2.06-.94 2.06-2.06.94zm-11 1L8.5 8.5l.94-2.06 2.06-.94-2.06-.94L8.5 2.5l-.94 2.06-2.06.94zm10 10l.94 2.06.94-2.06 2.06-.94-2.06-.94-.94-2.06-.94 2.06-2.06.94z\"/><path d=\"M17.41 7.96l-1.37-1.37c-.4-.4-.92-.59-1.43-.59-.52 0-1.04.2-1.43.59L10.3 9.45l-7.72 7.72c-.78.78-.78 2.05 0 2.83L4 21.41c.39.39.9.59 1.41.59.51 0 1.02-.2 1.41-.59l7.78-7.78 2.81-2.81c.8-.78.8-2.07 0-2.86zM5.41 20L4 18.59l7.72-7.72 1.47 1.35L5.41 20z\"/>\n",
              "  </svg>\n",
              "      </button>\n",
              "      \n",
              "  <style>\n",
              "    .colab-df-container {\n",
              "      display:flex;\n",
              "      flex-wrap:wrap;\n",
              "      gap: 12px;\n",
              "    }\n",
              "\n",
              "    .colab-df-convert {\n",
              "      background-color: #E8F0FE;\n",
              "      border: none;\n",
              "      border-radius: 50%;\n",
              "      cursor: pointer;\n",
              "      display: none;\n",
              "      fill: #1967D2;\n",
              "      height: 32px;\n",
              "      padding: 0 0 0 0;\n",
              "      width: 32px;\n",
              "    }\n",
              "\n",
              "    .colab-df-convert:hover {\n",
              "      background-color: #E2EBFA;\n",
              "      box-shadow: 0px 1px 2px rgba(60, 64, 67, 0.3), 0px 1px 3px 1px rgba(60, 64, 67, 0.15);\n",
              "      fill: #174EA6;\n",
              "    }\n",
              "\n",
              "    [theme=dark] .colab-df-convert {\n",
              "      background-color: #3B4455;\n",
              "      fill: #D2E3FC;\n",
              "    }\n",
              "\n",
              "    [theme=dark] .colab-df-convert:hover {\n",
              "      background-color: #434B5C;\n",
              "      box-shadow: 0px 1px 3px 1px rgba(0, 0, 0, 0.15);\n",
              "      filter: drop-shadow(0px 1px 2px rgba(0, 0, 0, 0.3));\n",
              "      fill: #FFFFFF;\n",
              "    }\n",
              "  </style>\n",
              "\n",
              "      <script>\n",
              "        const buttonEl =\n",
              "          document.querySelector('#df-79fcb3bc-3b9a-491f-8a52-bd2f74c16f75 button.colab-df-convert');\n",
              "        buttonEl.style.display =\n",
              "          google.colab.kernel.accessAllowed ? 'block' : 'none';\n",
              "\n",
              "        async function convertToInteractive(key) {\n",
              "          const element = document.querySelector('#df-79fcb3bc-3b9a-491f-8a52-bd2f74c16f75');\n",
              "          const dataTable =\n",
              "            await google.colab.kernel.invokeFunction('convertToInteractive',\n",
              "                                                     [key], {});\n",
              "          if (!dataTable) return;\n",
              "\n",
              "          const docLinkHtml = 'Like what you see? Visit the ' +\n",
              "            '<a target=\"_blank\" href=https://colab.research.google.com/notebooks/data_table.ipynb>data table notebook</a>'\n",
              "            + ' to learn more about interactive tables.';\n",
              "          element.innerHTML = '';\n",
              "          dataTable['output_type'] = 'display_data';\n",
              "          await google.colab.output.renderOutput(dataTable, element);\n",
              "          const docLink = document.createElement('div');\n",
              "          docLink.innerHTML = docLinkHtml;\n",
              "          element.appendChild(docLink);\n",
              "        }\n",
              "      </script>\n",
              "    </div>\n",
              "  </div>\n",
              "  "
            ]
          },
          "metadata": {},
          "execution_count": 73
        }
      ]
    },
    {
      "cell_type": "markdown",
      "metadata": {
        "id": "2se9kGxS9nc8"
      },
      "source": [
        "____\n",
        "### Matriz de correlación"
      ]
    },
    {
      "cell_type": "markdown",
      "metadata": {
        "id": "A23DRfxx9nc9"
      },
      "source": [
        "En `pandas`, es muy sencillo obtener la visualización de la matriz de correlación. **Ejecute el siguiente código:**"
      ]
    },
    {
      "cell_type": "code",
      "execution_count": 31,
      "metadata": {
        "id": "Zcaib0Sw9nc9",
        "colab": {
          "base_uri": "https://localhost:8080/",
          "height": 331
        },
        "outputId": "310ef6d8-351c-48ae-d330-fbed4889db13"
      },
      "outputs": [
        {
          "output_type": "execute_result",
          "data": {
            "text/plain": [
              "              Num_pregnant  Gluc_concent  Blood_press   Triceps   Insulin  \\\n",
              "Num_pregnant      1.000000      0.128213     0.157515  0.129717 -0.074385   \n",
              "Gluc_concent      0.128213      1.000000     0.202990  0.105037  0.186716   \n",
              "Blood_press       0.157515      0.202990     1.000000  0.061162  0.000461   \n",
              "Triceps           0.129717      0.105037     0.061162  1.000000  0.142845   \n",
              "Insulin          -0.074385      0.186716     0.000461  0.142845  1.000000   \n",
              "BMI               0.100180      0.185901     0.170640  0.412699  0.161512   \n",
              "Pedigree         -0.033523      0.137327     0.030281  0.053830  0.163990   \n",
              "Age               0.544341      0.266909     0.283399  0.089321 -0.062132   \n",
              "Diagnosis         0.221898      0.492782     0.139351  0.150647  0.091729   \n",
              "\n",
              "                   BMI  Pedigree       Age  Diagnosis  \n",
              "Num_pregnant  0.100180 -0.033523  0.544341   0.221898  \n",
              "Gluc_concent  0.185901  0.137327  0.266909   0.492782  \n",
              "Blood_press   0.170640  0.030281  0.283399   0.139351  \n",
              "Triceps       0.412699  0.053830  0.089321   0.150647  \n",
              "Insulin       0.161512  0.163990 -0.062132   0.091729  \n",
              "BMI           1.000000  0.080641  0.083197   0.271884  \n",
              "Pedigree      0.080641  1.000000  0.033561   0.173844  \n",
              "Age           0.083197  0.033561  1.000000   0.238356  \n",
              "Diagnosis     0.271884  0.173844  0.238356   1.000000  "
            ],
            "text/html": [
              "\n",
              "  <div id=\"df-cee1c2d6-8fda-4c39-8068-d3e08f9e9d89\">\n",
              "    <div class=\"colab-df-container\">\n",
              "      <div>\n",
              "<style scoped>\n",
              "    .dataframe tbody tr th:only-of-type {\n",
              "        vertical-align: middle;\n",
              "    }\n",
              "\n",
              "    .dataframe tbody tr th {\n",
              "        vertical-align: top;\n",
              "    }\n",
              "\n",
              "    .dataframe thead th {\n",
              "        text-align: right;\n",
              "    }\n",
              "</style>\n",
              "<table border=\"1\" class=\"dataframe\">\n",
              "  <thead>\n",
              "    <tr style=\"text-align: right;\">\n",
              "      <th></th>\n",
              "      <th>Num_pregnant</th>\n",
              "      <th>Gluc_concent</th>\n",
              "      <th>Blood_press</th>\n",
              "      <th>Triceps</th>\n",
              "      <th>Insulin</th>\n",
              "      <th>BMI</th>\n",
              "      <th>Pedigree</th>\n",
              "      <th>Age</th>\n",
              "      <th>Diagnosis</th>\n",
              "    </tr>\n",
              "  </thead>\n",
              "  <tbody>\n",
              "    <tr>\n",
              "      <th>Num_pregnant</th>\n",
              "      <td>1.000000</td>\n",
              "      <td>0.128213</td>\n",
              "      <td>0.157515</td>\n",
              "      <td>0.129717</td>\n",
              "      <td>-0.074385</td>\n",
              "      <td>0.100180</td>\n",
              "      <td>-0.033523</td>\n",
              "      <td>0.544341</td>\n",
              "      <td>0.221898</td>\n",
              "    </tr>\n",
              "    <tr>\n",
              "      <th>Gluc_concent</th>\n",
              "      <td>0.128213</td>\n",
              "      <td>1.000000</td>\n",
              "      <td>0.202990</td>\n",
              "      <td>0.105037</td>\n",
              "      <td>0.186716</td>\n",
              "      <td>0.185901</td>\n",
              "      <td>0.137327</td>\n",
              "      <td>0.266909</td>\n",
              "      <td>0.492782</td>\n",
              "    </tr>\n",
              "    <tr>\n",
              "      <th>Blood_press</th>\n",
              "      <td>0.157515</td>\n",
              "      <td>0.202990</td>\n",
              "      <td>1.000000</td>\n",
              "      <td>0.061162</td>\n",
              "      <td>0.000461</td>\n",
              "      <td>0.170640</td>\n",
              "      <td>0.030281</td>\n",
              "      <td>0.283399</td>\n",
              "      <td>0.139351</td>\n",
              "    </tr>\n",
              "    <tr>\n",
              "      <th>Triceps</th>\n",
              "      <td>0.129717</td>\n",
              "      <td>0.105037</td>\n",
              "      <td>0.061162</td>\n",
              "      <td>1.000000</td>\n",
              "      <td>0.142845</td>\n",
              "      <td>0.412699</td>\n",
              "      <td>0.053830</td>\n",
              "      <td>0.089321</td>\n",
              "      <td>0.150647</td>\n",
              "    </tr>\n",
              "    <tr>\n",
              "      <th>Insulin</th>\n",
              "      <td>-0.074385</td>\n",
              "      <td>0.186716</td>\n",
              "      <td>0.000461</td>\n",
              "      <td>0.142845</td>\n",
              "      <td>1.000000</td>\n",
              "      <td>0.161512</td>\n",
              "      <td>0.163990</td>\n",
              "      <td>-0.062132</td>\n",
              "      <td>0.091729</td>\n",
              "    </tr>\n",
              "    <tr>\n",
              "      <th>BMI</th>\n",
              "      <td>0.100180</td>\n",
              "      <td>0.185901</td>\n",
              "      <td>0.170640</td>\n",
              "      <td>0.412699</td>\n",
              "      <td>0.161512</td>\n",
              "      <td>1.000000</td>\n",
              "      <td>0.080641</td>\n",
              "      <td>0.083197</td>\n",
              "      <td>0.271884</td>\n",
              "    </tr>\n",
              "    <tr>\n",
              "      <th>Pedigree</th>\n",
              "      <td>-0.033523</td>\n",
              "      <td>0.137327</td>\n",
              "      <td>0.030281</td>\n",
              "      <td>0.053830</td>\n",
              "      <td>0.163990</td>\n",
              "      <td>0.080641</td>\n",
              "      <td>1.000000</td>\n",
              "      <td>0.033561</td>\n",
              "      <td>0.173844</td>\n",
              "    </tr>\n",
              "    <tr>\n",
              "      <th>Age</th>\n",
              "      <td>0.544341</td>\n",
              "      <td>0.266909</td>\n",
              "      <td>0.283399</td>\n",
              "      <td>0.089321</td>\n",
              "      <td>-0.062132</td>\n",
              "      <td>0.083197</td>\n",
              "      <td>0.033561</td>\n",
              "      <td>1.000000</td>\n",
              "      <td>0.238356</td>\n",
              "    </tr>\n",
              "    <tr>\n",
              "      <th>Diagnosis</th>\n",
              "      <td>0.221898</td>\n",
              "      <td>0.492782</td>\n",
              "      <td>0.139351</td>\n",
              "      <td>0.150647</td>\n",
              "      <td>0.091729</td>\n",
              "      <td>0.271884</td>\n",
              "      <td>0.173844</td>\n",
              "      <td>0.238356</td>\n",
              "      <td>1.000000</td>\n",
              "    </tr>\n",
              "  </tbody>\n",
              "</table>\n",
              "</div>\n",
              "      <button class=\"colab-df-convert\" onclick=\"convertToInteractive('df-cee1c2d6-8fda-4c39-8068-d3e08f9e9d89')\"\n",
              "              title=\"Convert this dataframe to an interactive table.\"\n",
              "              style=\"display:none;\">\n",
              "        \n",
              "  <svg xmlns=\"http://www.w3.org/2000/svg\" height=\"24px\"viewBox=\"0 0 24 24\"\n",
              "       width=\"24px\">\n",
              "    <path d=\"M0 0h24v24H0V0z\" fill=\"none\"/>\n",
              "    <path d=\"M18.56 5.44l.94 2.06.94-2.06 2.06-.94-2.06-.94-.94-2.06-.94 2.06-2.06.94zm-11 1L8.5 8.5l.94-2.06 2.06-.94-2.06-.94L8.5 2.5l-.94 2.06-2.06.94zm10 10l.94 2.06.94-2.06 2.06-.94-2.06-.94-.94-2.06-.94 2.06-2.06.94z\"/><path d=\"M17.41 7.96l-1.37-1.37c-.4-.4-.92-.59-1.43-.59-.52 0-1.04.2-1.43.59L10.3 9.45l-7.72 7.72c-.78.78-.78 2.05 0 2.83L4 21.41c.39.39.9.59 1.41.59.51 0 1.02-.2 1.41-.59l7.78-7.78 2.81-2.81c.8-.78.8-2.07 0-2.86zM5.41 20L4 18.59l7.72-7.72 1.47 1.35L5.41 20z\"/>\n",
              "  </svg>\n",
              "      </button>\n",
              "      \n",
              "  <style>\n",
              "    .colab-df-container {\n",
              "      display:flex;\n",
              "      flex-wrap:wrap;\n",
              "      gap: 12px;\n",
              "    }\n",
              "\n",
              "    .colab-df-convert {\n",
              "      background-color: #E8F0FE;\n",
              "      border: none;\n",
              "      border-radius: 50%;\n",
              "      cursor: pointer;\n",
              "      display: none;\n",
              "      fill: #1967D2;\n",
              "      height: 32px;\n",
              "      padding: 0 0 0 0;\n",
              "      width: 32px;\n",
              "    }\n",
              "\n",
              "    .colab-df-convert:hover {\n",
              "      background-color: #E2EBFA;\n",
              "      box-shadow: 0px 1px 2px rgba(60, 64, 67, 0.3), 0px 1px 3px 1px rgba(60, 64, 67, 0.15);\n",
              "      fill: #174EA6;\n",
              "    }\n",
              "\n",
              "    [theme=dark] .colab-df-convert {\n",
              "      background-color: #3B4455;\n",
              "      fill: #D2E3FC;\n",
              "    }\n",
              "\n",
              "    [theme=dark] .colab-df-convert:hover {\n",
              "      background-color: #434B5C;\n",
              "      box-shadow: 0px 1px 3px 1px rgba(0, 0, 0, 0.15);\n",
              "      filter: drop-shadow(0px 1px 2px rgba(0, 0, 0, 0.3));\n",
              "      fill: #FFFFFF;\n",
              "    }\n",
              "  </style>\n",
              "\n",
              "      <script>\n",
              "        const buttonEl =\n",
              "          document.querySelector('#df-cee1c2d6-8fda-4c39-8068-d3e08f9e9d89 button.colab-df-convert');\n",
              "        buttonEl.style.display =\n",
              "          google.colab.kernel.accessAllowed ? 'block' : 'none';\n",
              "\n",
              "        async function convertToInteractive(key) {\n",
              "          const element = document.querySelector('#df-cee1c2d6-8fda-4c39-8068-d3e08f9e9d89');\n",
              "          const dataTable =\n",
              "            await google.colab.kernel.invokeFunction('convertToInteractive',\n",
              "                                                     [key], {});\n",
              "          if (!dataTable) return;\n",
              "\n",
              "          const docLinkHtml = 'Like what you see? Visit the ' +\n",
              "            '<a target=\"_blank\" href=https://colab.research.google.com/notebooks/data_table.ipynb>data table notebook</a>'\n",
              "            + ' to learn more about interactive tables.';\n",
              "          element.innerHTML = '';\n",
              "          dataTable['output_type'] = 'display_data';\n",
              "          await google.colab.output.renderOutput(dataTable, element);\n",
              "          const docLink = document.createElement('div');\n",
              "          docLink.innerHTML = docLinkHtml;\n",
              "          element.appendChild(docLink);\n",
              "        }\n",
              "      </script>\n",
              "    </div>\n",
              "  </div>\n",
              "  "
            ]
          },
          "metadata": {},
          "execution_count": 31
        }
      ],
      "source": [
        "corr = diabetes.corr()\n",
        "corr"
      ]
    },
    {
      "cell_type": "markdown",
      "metadata": {
        "id": "2Vh4JVHc9nc9"
      },
      "source": [
        "Haciendo uso de `seaborn` podremos hacernos una idea rápida de qué variables están más correlacionadas con la clase. Ejecute el siguiente código."
      ]
    },
    {
      "cell_type": "code",
      "execution_count": 32,
      "metadata": {
        "scrolled": false,
        "id": "7rAC7Scu9nc9"
      },
      "outputs": [],
      "source": [
        "%matplotlib inline\n",
        "import seaborn as sns"
      ]
    },
    {
      "cell_type": "code",
      "execution_count": 33,
      "metadata": {
        "id": "xjn7p6Yl9nc-",
        "colab": {
          "base_uri": "https://localhost:8080/",
          "height": 542
        },
        "outputId": "ce9f330a-0b1c-4a02-d44f-7d154b42eb8e"
      },
      "outputs": [
        {
          "output_type": "execute_result",
          "data": {
            "text/plain": [
              "<Axes: >"
            ]
          },
          "metadata": {},
          "execution_count": 33
        },
        {
          "output_type": "display_data",
          "data": {
            "text/plain": [
              "<Figure size 640x480 with 2 Axes>"
            ],
            "image/png": "[encoded data removed]"
          },
          "metadata": {}
        }
      ],
      "source": [
        "sns.heatmap(corr, annot = True)"
      ]
    },
    {
      "cell_type": "markdown",
      "metadata": {
        "id": "iKLvKIBo9nc-"
      },
      "source": [
        "### Séptima pregunta (1 punto)"
      ]
    },
    {
      "cell_type": "markdown",
      "metadata": {
        "id": "ulIxMv6h9nc-"
      },
      "source": [
        "### Indique, de mayor a menor correlación, las variables que guardan una mayor correlación con la clase. ¿Tiene sentido que las tres primeras variables con mayor correlación se identifiquen con una mayor probabilidad de sufrir diabetes de tipo 2? Justifique su respuesta."
      ]
    },
    {
      "cell_type": "markdown",
      "source": [
        "|Correlación Variable| Clase\t| Porcentaje| Tiene Sentido | Justificación\t\t\t\t\t\t\t\t\t\t\t\t\t\t\t\t\t\t\t\t\t\t\t\t\t\t\t\t\t\t\t\t\t\t\t\t\t\t\t\t\t\t\t\t\t\t\t\t\t\t\t\t\t\t\t\t\t\t\t\t\t\t\t\t\t\t\t\t\t\t\t\t\t\t\t\t\t\t\t\t\t\t\t\t\t\t\t\t\t\t\t\t\t\t\t\t\t\t\t\t\t\t\t\t\t\t\t\t\t\t\t\t\t\t\t\t\t\t\t\t\t\t\t\t\t\t\t\t\t\t\t\t\t|\n",
        "|:-------------------|:---------|:---------:|:-------------:|:--------------------------------------------------------------------------------------------------------------------------------------------------------------------------------------------------------------------------------------------------------------------------------------------------------------------------------------------------------------------------------------------------------------------------------------------------------------------------------------------------------------------------------------------------------------|\n",
        "|Gluc_concent        | Diagnosis| 49%\t\t| Si & No\t\t| Aunque el porcentaje de correlación es moderado (49%), el nivel de glucosa en sangre es un factor importante en el diagnóstico y control de la diabetes, por lo que esperaba que existiera una relación significativa más alta entre el nivel de glucosa y la presencia de la enfermedad.\t\t\t\t\t\t\t\t\t\t\t\t\t\t\t\t\t\t\t\t\t\t\t\t\t\t\t\t\t\t\t\t\t\t\t\t\t\t\t\t\t\t\t\t\t\t\t\t\t\t\t\t\t\t\t\t\t\t\t\t\t\t\t\t\t\t|\n",
        "|BMI                 | Diagnosis| 27%\t\t| Si & No\t\t| No tiene sentido que el porcentaje de correlación en este caso sea tan bajo (27%), ya que el exceso de peso y la obesidad son factores de riesgo conocidos para la diabetes, por lo que es probable que exista una correlación alta entre el índice de masa corporal y la clase diabetes.\t\t\t\t\t\t\t\t\t\t\t\t\t\t\t\t\t\t\t\t\t\t\t\t\t\t\t\t\t\t\t\t\t\t\t\t\t\t\t\t\t\t\t\t\t\t\t\t\t\t\t\t\t\t\t\t\t\t\t\t\t\t\t\t\t\t|\n",
        "|Age                 | Diagnosis| 24%\t\t| Si & No\t\t| Sí, tiene sentido que la edad tenga cierta correlación con la clase diabetes. La diabetes tipo 2, que es la forma más común de diabetes en adultos, tiende a desarrollarse con mayor frecuencia a medida que las personas envejecen. Además, la edad puede estar relacionada con otros factores de riesgo para la diabetes, como la obesidad y el estilo de vida sedentario. Sin embargo, es importante tener en cuenta que la correlación entre la edad y la clase diabetes puede no ser necesariamente alta o dominante en comparación con otras variables. |\n",
        "|Num_pregnant        | Diagnosis| 22%\t\t| Si\t\t\t| Aunque el número de embarazos puede estar relacionado con factores de riesgo adicionales para la diabetes, como la resistencia a la insulina, no necesariamente indica directamente la presencia de la enfermedad.\t\t\t\t\t\t\t\t\t\t\t\t\t\t\t\t\t\t\t\t\t\t\t\t\t\t\t\t\t\t\t\t\t\t\t\t\t\t\t\t\t\t\t\t\t\t\t\t\t\t\t\t\t\t\t\t\t\t\t\t\t\t\t\t\t\t\t\t\t\t\t\t\t\t\t\t\t\t\t\t\t\t\t|\n",
        "|Pedigree            | Diagnosis| 17%\t\t| No\t\t\t| La función de pedigrí de diabetes es una medida que proporciona información sobre la historia familiar de diabetes y puede indicar una predisposición genética a la enfermedad. Dado que la diabetes tipo 2 tiene una base genética y familiar, es razonable esperar que la función de pedigrí de diabetes, que refleja la historia familiar de la enfermedad, esté correlacionada con la clase diabetes.\t\t\t\t\t\t\t\t\t\t\t\t\t\t\t\t\t\t\t\t\t\t\t\t\t\t\t\t\t\t\t\t\t\t\t\t\t\t|\n",
        "|Triceps             | Diagnosis| 15%\t\t| Si\t\t\t| Aunque el espesor del pliegue cutáneo puede estar relacionado con la composición corporal y la obesidad, no es un indicador específico de la diabetes.\t\t\t\t\t\t\t\t\t\t\t\t\t\t\t\t\t\t\t\t\t\t\t\t\t\t\t\t\t\t\t\t\t\t\t\t\t\t\t\t\t\t\t\t\t\t\t\t\t\t\t\t\t\t\t\t\t\t\t\t\t\t\t\t\t\t\t\t\t\t\t\t\t\t\t\t\t\t\t\t\t\t\t\t\t\t\t\t\t\t\t\t\t\t\t\t\t\t|\n",
        "|Blood_press         | Diagnosis| 14%\t\t| Si\t\t\t| Aunque la presión arterial alta puede estar asociada con la diabetes en algunos casos, no es un marcador directo de la enfermedad.\t\t\t\t\t\t\t\t\t\t\t\t\t\t\t\t\t\t\t\t\t\t\t\t\t\t\t\t\t\t\t\t\t\t\t\t\t\t\t\t\t\t\t\t\t\t\t\t\t\t\t\t\t\t\t\t\t\t\t\t\t\t\t\t\t\t\t\t\t\t\t\t\t\t\t\t\t\t\t\t\t\t\t\t\t\t\t\t\t\t\t\t\t\t\t\t\t\t\t\t\t\t\t|\n",
        "|Insulin   \t\t     | Diagnosis| 1%\t\t| No\t\t\t| La insulina es una hormona clave en la regulación del metabolismo de la glucosa. Por lo tanto, es lógico suponer que los niveles de insulina están relacionados con la diabetes.\t\t\t\t\t\t\t\t\t\t\t\t\t\t\t\t\t\t\t\t\t\t\t\t\t\t\t\t\t\t\t\t\t\t\t\t\t\t\t\t\t\t\t\t\t\t\t\t\t\t\t\t\t\t\t\t\t\t\t\t\t\t\t\t\t\t\t\t\t\t\t\t\t\t\t\t\t\t\t\t\t\t\t\t\t\t\t\t\t\t\t\t|"
      ],
      "metadata": {
        "id": "kqnsK9rv5Ny_"
      }
    },
    {
      "cell_type": "markdown",
      "metadata": {
        "id": "8oEIwoGQ9nc_"
      },
      "source": [
        "## Entrenando un modelo de Regresión Logística para el dataset"
      ]
    },
    {
      "cell_type": "markdown",
      "metadata": {
        "id": "aX6CnV_P9nc_"
      },
      "source": [
        "Ahora podemos entrenar un modelo de clasificación. Usaremos un modelo simple de aprendizaje automático llamado Regresión Logística.\n",
        "Dado que el modelo está disponible en Scikit-sklearn, el proceso de capacitación es bastante sencillo y podemos hacerlo en pocas líneas de código. Primero, creamos una instancia llamada `diabetesCheck` y luego usamos la función de ajuste para entrenar el modelo."
      ]
    },
    {
      "cell_type": "markdown",
      "metadata": {
        "id": "V4nVMmvz9nc_"
      },
      "source": [
        "### Partición del dataset en train test y test set"
      ]
    },
    {
      "cell_type": "markdown",
      "metadata": {
        "id": "NFpjAG3U9nc_"
      },
      "source": [
        "Antes de comenzar el entrenamiento de nuestro modelo, necesitamos hacer una **partición de nuestro datos** entre aquellos que se van a usar para entrenar y aquellos que van a usarse para la validación de ese mismo entrenamiento. Esa partición suele ser aleatoria, y con `train_test_split` podremos hacer la partición fácilmente:"
      ]
    },
    {
      "cell_type": "markdown",
      "metadata": {
        "id": "5h0C8Y7s9ndA"
      },
      "source": [
        "Por favor, **ejecute las siguientes líneas de código**:"
      ]
    },
    {
      "cell_type": "code",
      "execution_count": 34,
      "metadata": {
        "id": "6vPhChd49ndA"
      },
      "outputs": [],
      "source": [
        "x_data = diabetes.drop('Diagnosis', axis=1)"
      ]
    },
    {
      "cell_type": "code",
      "execution_count": 35,
      "metadata": {
        "id": "PEUdiBUo9ndB",
        "outputId": "4cfd090f-2f62-448f-ff3b-ec0b25f37901",
        "colab": {
          "base_uri": "https://localhost:8080/"
        }
      },
      "outputs": [
        {
          "output_type": "execute_result",
          "data": {
            "text/plain": [
              "(768, 8)"
            ]
          },
          "metadata": {},
          "execution_count": 35
        }
      ],
      "source": [
        "x_data.shape"
      ]
    },
    {
      "cell_type": "code",
      "execution_count": 36,
      "metadata": {
        "id": "8jgBxvfr9ndB"
      },
      "outputs": [],
      "source": [
        "labels = diabetes['Diagnosis']"
      ]
    },
    {
      "cell_type": "code",
      "execution_count": 37,
      "metadata": {
        "id": "VvTSzZj29ndC",
        "outputId": "d8b96164-8df7-49ba-bd03-c5e4609a797b",
        "colab": {
          "base_uri": "https://localhost:8080/"
        }
      },
      "outputs": [
        {
          "output_type": "execute_result",
          "data": {
            "text/plain": [
              "(768,)"
            ]
          },
          "metadata": {},
          "execution_count": 37
        }
      ],
      "source": [
        "labels.shape"
      ]
    },
    {
      "cell_type": "markdown",
      "metadata": {
        "id": "xLBwsFOq9ndC"
      },
      "source": [
        "Con esto ya hemos aislado las características de las etiquetas desde el `pandas dataframe` en el que estábamos trabajando."
      ]
    },
    {
      "cell_type": "markdown",
      "metadata": {
        "id": "qZ3rmwLJ9ndD"
      },
      "source": [
        "Importamos `train_test_split` y hacemos la partición de nuestros datos"
      ]
    },
    {
      "cell_type": "code",
      "execution_count": 38,
      "metadata": {
        "id": "BsjR6QPA9ndD"
      },
      "outputs": [],
      "source": [
        "from sklearn.model_selection import train_test_split"
      ]
    },
    {
      "cell_type": "code",
      "execution_count": 39,
      "metadata": {
        "id": "PRE5HMgD9ndD"
      },
      "outputs": [],
      "source": [
        "X_train, X_test, y_train, y_test = train_test_split(x_data, labels, test_size=0.33, random_state=42, stratify=labels)"
      ]
    },
    {
      "cell_type": "markdown",
      "metadata": {
        "id": "685QFN9Y9ndE"
      },
      "source": [
        "Importamos el constructor `LogisticRegression` para **comenzar con la regresión logística** y lanzamos el entrenamiento con `diabetesCheck.fit()` sobre el dataset de entrenamiento."
      ]
    },
    {
      "cell_type": "code",
      "execution_count": 40,
      "metadata": {
        "id": "9Cn-Jpaq9ndE"
      },
      "outputs": [],
      "source": [
        "from sklearn.linear_model import LogisticRegression"
      ]
    },
    {
      "cell_type": "code",
      "execution_count": 41,
      "metadata": {
        "id": "nPzAytuu9ndE"
      },
      "outputs": [],
      "source": [
        "diabetesCheck = LogisticRegression(solver='lbfgs', max_iter=1000)"
      ]
    },
    {
      "cell_type": "code",
      "execution_count": 42,
      "metadata": {
        "id": "8oZ2YiYl9ndF",
        "colab": {
          "base_uri": "https://localhost:8080/",
          "height": 74
        },
        "outputId": "3961c0eb-1e87-435f-d7be-44e912b4e430"
      },
      "outputs": [
        {
          "output_type": "execute_result",
          "data": {
            "text/plain": [
              "LogisticRegression(max_iter=1000)"
            ],
            "text/html": [
              "<style>#sk-container-id-1 {color: black;background-color: white;}#sk-container-id-1 pre{padding: 0;}#sk-container-id-1 div.sk-toggleable {background-color: white;}#sk-container-id-1 label.sk-toggleable__label {cursor: pointer;display: block;width: 100%;margin-bottom: 0;padding: 0.3em;box-sizing: border-box;text-align: center;}#sk-container-id-1 label.sk-toggleable__label-arrow:before {content: \"▸\";float: left;margin-right: 0.25em;color: #696969;}#sk-container-id-1 label.sk-toggleable__label-arrow:hover:before {color: black;}#sk-container-id-1 div.sk-estimator:hover label.sk-toggleable__label-arrow:before {color: black;}#sk-container-id-1 div.sk-toggleable__content {max-height: 0;max-width: 0;overflow: hidden;text-align: left;background-color: #f0f8ff;}#sk-container-id-1 div.sk-toggleable__content pre {margin: 0.2em;color: black;border-radius: 0.25em;background-color: #f0f8ff;}#sk-container-id-1 input.sk-toggleable__control:checked~div.sk-toggleable__content {max-height: 200px;max-width: 100%;overflow: auto;}#sk-container-id-1 input.sk-toggleable__control:checked~label.sk-toggleable__label-arrow:before {content: \"▾\";}#sk-container-id-1 div.sk-estimator input.sk-toggleable__control:checked~label.sk-toggleable__label {background-color: #d4ebff;}#sk-container-id-1 div.sk-label input.sk-toggleable__control:checked~label.sk-toggleable__label {background-color: #d4ebff;}#sk-container-id-1 input.sk-hidden--visually {border: 0;clip: rect(1px 1px 1px 1px);clip: rect(1px, 1px, 1px, 1px);height: 1px;margin: -1px;overflow: hidden;padding: 0;position: absolute;width: 1px;}#sk-container-id-1 div.sk-estimator {font-family: monospace;background-color: #f0f8ff;border: 1px dotted black;border-radius: 0.25em;box-sizing: border-box;margin-bottom: 0.5em;}#sk-container-id-1 div.sk-estimator:hover {background-color: #d4ebff;}#sk-container-id-1 div.sk-parallel-item::after {content: \"\";width: 100%;border-bottom: 1px solid gray;flex-grow: 1;}#sk-container-id-1 div.sk-label:hover label.sk-toggleable__label {background-color: #d4ebff;}#sk-container-id-1 div.sk-serial::before {content: \"\";position: absolute;border-left: 1px solid gray;box-sizing: border-box;top: 0;bottom: 0;left: 50%;z-index: 0;}#sk-container-id-1 div.sk-serial {display: flex;flex-direction: column;align-items: center;background-color: white;padding-right: 0.2em;padding-left: 0.2em;position: relative;}#sk-container-id-1 div.sk-item {position: relative;z-index: 1;}#sk-container-id-1 div.sk-parallel {display: flex;align-items: stretch;justify-content: center;background-color: white;position: relative;}#sk-container-id-1 div.sk-item::before, #sk-container-id-1 div.sk-parallel-item::before {content: \"\";position: absolute;border-left: 1px solid gray;box-sizing: border-box;top: 0;bottom: 0;left: 50%;z-index: -1;}#sk-container-id-1 div.sk-parallel-item {display: flex;flex-direction: column;z-index: 1;position: relative;background-color: white;}#sk-container-id-1 div.sk-parallel-item:first-child::after {align-self: flex-end;width: 50%;}#sk-container-id-1 div.sk-parallel-item:last-child::after {align-self: flex-start;width: 50%;}#sk-container-id-1 div.sk-parallel-item:only-child::after {width: 0;}#sk-container-id-1 div.sk-dashed-wrapped {border: 1px dashed gray;margin: 0 0.4em 0.5em 0.4em;box-sizing: border-box;padding-bottom: 0.4em;background-color: white;}#sk-container-id-1 div.sk-label label {font-family: monospace;font-weight: bold;display: inline-block;line-height: 1.2em;}#sk-container-id-1 div.sk-label-container {text-align: center;}#sk-container-id-1 div.sk-container {/* jupyter's `normalize.less` sets `[hidden] { display: none; }` but bootstrap.min.css set `[hidden] { display: none !important; }` so we also need the `!important` here to be able to override the default hidden behavior on the sphinx rendered scikit-learn.org. See: https://github.com/scikit-learn/scikit-learn/issues/21755 */display: inline-block !important;position: relative;}#sk-container-id-1 div.sk-text-repr-fallback {display: none;}</style><div id=\"sk-container-id-1\" class=\"sk-top-container\"><div class=\"sk-text-repr-fallback\"><pre>LogisticRegression(max_iter=1000)</pre><b>In a Jupyter environment, please rerun this cell to show the HTML representation or trust the notebook. <br />On GitHub, the HTML representation is unable to render, please try loading this page with nbviewer.org.</b></div><div class=\"sk-container\" hidden><div class=\"sk-item\"><div class=\"sk-estimator sk-toggleable\"><input class=\"sk-toggleable__control sk-hidden--visually\" id=\"sk-estimator-id-1\" type=\"checkbox\" checked><label for=\"sk-estimator-id-1\" class=\"sk-toggleable__label sk-toggleable__label-arrow\">LogisticRegression</label><div class=\"sk-toggleable__content\"><pre>LogisticRegression(max_iter=1000)</pre></div></div></div></div></div>"
            ]
          },
          "metadata": {},
          "execution_count": 42
        }
      ],
      "source": [
        "diabetesCheck.fit(X_train, y_train)"
      ]
    },
    {
      "cell_type": "code",
      "execution_count": 43,
      "metadata": {
        "id": "LezdSo2-9ndF"
      },
      "outputs": [],
      "source": [
        "accuracy = diabetesCheck.score(X_train, y_train)"
      ]
    },
    {
      "cell_type": "markdown",
      "metadata": {
        "id": "1CI6J2TN9ndF"
      },
      "source": [
        "Para obtener la precisión de nuestro modelo, podemos atacar directamente a nuestro `test dataset` con `diabetesCheck.score()`."
      ]
    },
    {
      "cell_type": "code",
      "execution_count": 44,
      "metadata": {
        "id": "H3k4IxEO9ndF",
        "colab": {
          "base_uri": "https://localhost:8080/"
        },
        "outputId": "72b2cef1-77a8-4d44-b7dc-71b8fc6c8c66"
      },
      "outputs": [
        {
          "output_type": "stream",
          "name": "stdout",
          "text": [
            "accuracy =  74.40944881889764 %\n"
          ]
        }
      ],
      "source": [
        "accuracy = diabetesCheck.score(X_test, y_test)\n",
        "print(\"accuracy = \", accuracy * 100, \"%\")"
      ]
    },
    {
      "cell_type": "markdown",
      "metadata": {
        "id": "0XXJJKhe9ndG"
      },
      "source": [
        "Esta es la precisión de nuestro modelo tras habér realizado una Regresión Logística."
      ]
    },
    {
      "cell_type": "markdown",
      "metadata": {
        "id": "It4kGj8L9ndG"
      },
      "source": [
        "### Octava pregunta (1 punto)"
      ]
    },
    {
      "cell_type": "markdown",
      "metadata": {
        "id": "wQB9v5ky9ndG"
      },
      "source": [
        "### Este ajuste se ha realizado con los datos escalados entre $0$ y $1$.\n",
        "### a) Repita este ajuste con los datos no escalados (es decir, con el dataset original) (0,7 puntos)"
      ]
    },
    {
      "cell_type": "raw",
      "metadata": {
        "id": "VcnwN4IY9ndG"
      },
      "source": [
        "¡Necesitará cargar el dataset desde el fichero original!"
      ]
    },
    {
      "cell_type": "code",
      "execution_count": 45,
      "metadata": {
        "id": "2mjmU7Ua9ndH"
      },
      "outputs": [],
      "source": [
        "diabetes_no_escalado = pd.read_csv('pima-indians-diabetes.csv',\n",
        "                       names=['Num_pregnant', 'Gluc_concent',\n",
        "                             'Blood_press', 'Triceps', 'Insulin', 'BMI',\n",
        "                             'Pedigree', 'Age', 'Diagnosis'])"
      ]
    },
    {
      "cell_type": "code",
      "source": [
        "x_data_no_scaler = diabetes_no_escalado.drop('Diagnosis', axis=1)"
      ],
      "metadata": {
        "id": "Z4UbwPAw6NX2"
      },
      "execution_count": 46,
      "outputs": []
    },
    {
      "cell_type": "code",
      "source": [
        "x_data_no_scaler.shape"
      ],
      "metadata": {
        "colab": {
          "base_uri": "https://localhost:8080/"
        },
        "id": "1Ga8EJKs6kw5",
        "outputId": "f413d217-dad1-46b2-91cf-6dfa64c6e117"
      },
      "execution_count": 47,
      "outputs": [
        {
          "output_type": "execute_result",
          "data": {
            "text/plain": [
              "(768, 8)"
            ]
          },
          "metadata": {},
          "execution_count": 47
        }
      ]
    },
    {
      "cell_type": "code",
      "source": [
        "labels_no_scaler = diabetes_no_escalado['Diagnosis']"
      ],
      "metadata": {
        "id": "VRsQDaaM6lue"
      },
      "execution_count": 48,
      "outputs": []
    },
    {
      "cell_type": "code",
      "source": [
        "labels_no_scaler.shape"
      ],
      "metadata": {
        "colab": {
          "base_uri": "https://localhost:8080/"
        },
        "id": "Xx-BN_Bc6nlu",
        "outputId": "541415f9-4e85-40fd-e79e-a032714e7abb"
      },
      "execution_count": 49,
      "outputs": [
        {
          "output_type": "execute_result",
          "data": {
            "text/plain": [
              "(768,)"
            ]
          },
          "metadata": {},
          "execution_count": 49
        }
      ]
    },
    {
      "cell_type": "code",
      "source": [
        "X_train_, X_test_, y_train_, y_test_ = train_test_split(x_data_no_scaler, labels_no_scaler, test_size=0.33, random_state=42, stratify=labels_no_scaler)"
      ],
      "metadata": {
        "id": "qLevLvs-6pY2"
      },
      "execution_count": 50,
      "outputs": []
    },
    {
      "cell_type": "code",
      "source": [
        "diabetesCheck_no_scaler = LogisticRegression(solver='lbfgs', max_iter=1000)"
      ],
      "metadata": {
        "id": "_gAgDjwX6rPO"
      },
      "execution_count": 51,
      "outputs": []
    },
    {
      "cell_type": "code",
      "source": [
        "diabetesCheck_no_scaler.fit(X_train_, y_train_)"
      ],
      "metadata": {
        "colab": {
          "base_uri": "https://localhost:8080/",
          "height": 74
        },
        "id": "t5I9gtNZ6s4O",
        "outputId": "571f9a90-fc87-480a-889f-240e6e6c615b"
      },
      "execution_count": 52,
      "outputs": [
        {
          "output_type": "execute_result",
          "data": {
            "text/plain": [
              "LogisticRegression(max_iter=1000)"
            ],
            "text/html": [
              "<style>#sk-container-id-2 {color: black;background-color: white;}#sk-container-id-2 pre{padding: 0;}#sk-container-id-2 div.sk-toggleable {background-color: white;}#sk-container-id-2 label.sk-toggleable__label {cursor: pointer;display: block;width: 100%;margin-bottom: 0;padding: 0.3em;box-sizing: border-box;text-align: center;}#sk-container-id-2 label.sk-toggleable__label-arrow:before {content: \"▸\";float: left;margin-right: 0.25em;color: #696969;}#sk-container-id-2 label.sk-toggleable__label-arrow:hover:before {color: black;}#sk-container-id-2 div.sk-estimator:hover label.sk-toggleable__label-arrow:before {color: black;}#sk-container-id-2 div.sk-toggleable__content {max-height: 0;max-width: 0;overflow: hidden;text-align: left;background-color: #f0f8ff;}#sk-container-id-2 div.sk-toggleable__content pre {margin: 0.2em;color: black;border-radius: 0.25em;background-color: #f0f8ff;}#sk-container-id-2 input.sk-toggleable__control:checked~div.sk-toggleable__content {max-height: 200px;max-width: 100%;overflow: auto;}#sk-container-id-2 input.sk-toggleable__control:checked~label.sk-toggleable__label-arrow:before {content: \"▾\";}#sk-container-id-2 div.sk-estimator input.sk-toggleable__control:checked~label.sk-toggleable__label {background-color: #d4ebff;}#sk-container-id-2 div.sk-label input.sk-toggleable__control:checked~label.sk-toggleable__label {background-color: #d4ebff;}#sk-container-id-2 input.sk-hidden--visually {border: 0;clip: rect(1px 1px 1px 1px);clip: rect(1px, 1px, 1px, 1px);height: 1px;margin: -1px;overflow: hidden;padding: 0;position: absolute;width: 1px;}#sk-container-id-2 div.sk-estimator {font-family: monospace;background-color: #f0f8ff;border: 1px dotted black;border-radius: 0.25em;box-sizing: border-box;margin-bottom: 0.5em;}#sk-container-id-2 div.sk-estimator:hover {background-color: #d4ebff;}#sk-container-id-2 div.sk-parallel-item::after {content: \"\";width: 100%;border-bottom: 1px solid gray;flex-grow: 1;}#sk-container-id-2 div.sk-label:hover label.sk-toggleable__label {background-color: #d4ebff;}#sk-container-id-2 div.sk-serial::before {content: \"\";position: absolute;border-left: 1px solid gray;box-sizing: border-box;top: 0;bottom: 0;left: 50%;z-index: 0;}#sk-container-id-2 div.sk-serial {display: flex;flex-direction: column;align-items: center;background-color: white;padding-right: 0.2em;padding-left: 0.2em;position: relative;}#sk-container-id-2 div.sk-item {position: relative;z-index: 1;}#sk-container-id-2 div.sk-parallel {display: flex;align-items: stretch;justify-content: center;background-color: white;position: relative;}#sk-container-id-2 div.sk-item::before, #sk-container-id-2 div.sk-parallel-item::before {content: \"\";position: absolute;border-left: 1px solid gray;box-sizing: border-box;top: 0;bottom: 0;left: 50%;z-index: -1;}#sk-container-id-2 div.sk-parallel-item {display: flex;flex-direction: column;z-index: 1;position: relative;background-color: white;}#sk-container-id-2 div.sk-parallel-item:first-child::after {align-self: flex-end;width: 50%;}#sk-container-id-2 div.sk-parallel-item:last-child::after {align-self: flex-start;width: 50%;}#sk-container-id-2 div.sk-parallel-item:only-child::after {width: 0;}#sk-container-id-2 div.sk-dashed-wrapped {border: 1px dashed gray;margin: 0 0.4em 0.5em 0.4em;box-sizing: border-box;padding-bottom: 0.4em;background-color: white;}#sk-container-id-2 div.sk-label label {font-family: monospace;font-weight: bold;display: inline-block;line-height: 1.2em;}#sk-container-id-2 div.sk-label-container {text-align: center;}#sk-container-id-2 div.sk-container {/* jupyter's `normalize.less` sets `[hidden] { display: none; }` but bootstrap.min.css set `[hidden] { display: none !important; }` so we also need the `!important` here to be able to override the default hidden behavior on the sphinx rendered scikit-learn.org. See: https://github.com/scikit-learn/scikit-learn/issues/21755 */display: inline-block !important;position: relative;}#sk-container-id-2 div.sk-text-repr-fallback {display: none;}</style><div id=\"sk-container-id-2\" class=\"sk-top-container\"><div class=\"sk-text-repr-fallback\"><pre>LogisticRegression(max_iter=1000)</pre><b>In a Jupyter environment, please rerun this cell to show the HTML representation or trust the notebook. <br />On GitHub, the HTML representation is unable to render, please try loading this page with nbviewer.org.</b></div><div class=\"sk-container\" hidden><div class=\"sk-item\"><div class=\"sk-estimator sk-toggleable\"><input class=\"sk-toggleable__control sk-hidden--visually\" id=\"sk-estimator-id-2\" type=\"checkbox\" checked><label for=\"sk-estimator-id-2\" class=\"sk-toggleable__label sk-toggleable__label-arrow\">LogisticRegression</label><div class=\"sk-toggleable__content\"><pre>LogisticRegression(max_iter=1000)</pre></div></div></div></div></div>"
            ]
          },
          "metadata": {},
          "execution_count": 52
        }
      ]
    },
    {
      "cell_type": "code",
      "source": [
        "accuracy = diabetesCheck_no_scaler.score(X_train_, y_train_)"
      ],
      "metadata": {
        "id": "JpPHTzzr6vIn"
      },
      "execution_count": 53,
      "outputs": []
    },
    {
      "cell_type": "code",
      "source": [
        "accuracy = diabetesCheck_no_scaler.score(X_test_, y_test_)\n",
        "print(\"accuracy = \", accuracy * 100, \"%\")"
      ],
      "metadata": {
        "colab": {
          "base_uri": "https://localhost:8080/"
        },
        "id": "Wy1ITK3E6v-H",
        "outputId": "008f6aaa-68d2-42dc-d0cd-8e719579d4b2"
      },
      "execution_count": 54,
      "outputs": [
        {
          "output_type": "stream",
          "name": "stdout",
          "text": [
            "accuracy =  74.40944881889764 %\n"
          ]
        }
      ]
    },
    {
      "cell_type": "markdown",
      "metadata": {
        "id": "eo4FJhpz9ndH"
      },
      "source": [
        "### c) ¿Observa una mejora sustancial en alguno de los casos o un empeoramiento? Justifique su respuesta. ¿Por qué no prueba a implementar otro algoritmo (por ejemplo, `RandomForestClassifier()`) para ver si mejora su precisión? ¿Cómo interpreta los resultados obtenidos? (0,3 puntos)"
      ]
    },
    {
      "cell_type": "markdown",
      "source": [
        "Realmente no observo ni una mejora sustancial ni un empeoramiento con los datos escalados y sin escalar. Los resultados de la precisión de los modelos de regresión logística son realmente similares por lo cual no identifico la diferencia entre estos dos. La precisión de los dos modelos fue del 74%."
      ],
      "metadata": {
        "id": "nru3eTsz_5Wh"
      }
    },
    {
      "cell_type": "markdown",
      "source": [
        "Con el modelo Random Forest la precisión mejoro un punto porcentual en comparación con el modelo Logistic Regression. La precisión del modelo fue del 75% con y sin escalar."
      ],
      "metadata": {
        "id": "GQhSfRHUB0zQ"
      }
    },
    {
      "cell_type": "markdown",
      "source": [
        "**Modelo Random Forest Escalado**"
      ],
      "metadata": {
        "id": "T_16Yoxc_hhN"
      }
    },
    {
      "cell_type": "code",
      "execution_count": 55,
      "metadata": {
        "id": "CFrnvMag9ndH",
        "colab": {
          "base_uri": "https://localhost:8080/"
        },
        "outputId": "862fef95-24a2-487f-ada9-091a6fab9d77"
      },
      "outputs": [
        {
          "output_type": "stream",
          "name": "stdout",
          "text": [
            "Precisión del modelo RandomForestClassifier: 0.7598425196850394\n"
          ]
        }
      ],
      "source": [
        "from sklearn.model_selection import train_test_split\n",
        "from sklearn.ensemble import RandomForestClassifier\n",
        "from sklearn.metrics import accuracy_score\n",
        "\n",
        "# Separar características (X) y etiquetas (y)\n",
        "X = diabetes.drop('Diagnosis', axis=1)\n",
        "y = diabetes['Diagnosis']\n",
        "\n",
        "# Dividir el conjunto de datos en conjuntos de entrenamiento y prueba\n",
        "X_train, X_test, y_train, y_test = train_test_split(X, y, test_size=0.33, random_state=42)\n",
        "\n",
        "# Crear el modelo RandomForestClassifier\n",
        "model = RandomForestClassifier(n_estimators=100, random_state=42)\n",
        "\n",
        "# Entrenar el modelo con los datos de entrenamiento\n",
        "model.fit(X_train, y_train)\n",
        "\n",
        "# Realizar predicciones en el conjunto de prueba\n",
        "y_pred = model.predict(X_test)\n",
        "\n",
        "# Calcular la precisión del modelo\n",
        "accuracy = accuracy_score(y_test, y_pred)\n",
        "print(\"Precisión del modelo RandomForestClassifier:\", accuracy)"
      ]
    },
    {
      "cell_type": "markdown",
      "source": [
        "**Modelo Random Forest Sin Escalado**"
      ],
      "metadata": {
        "id": "ewii0zoA_0IW"
      }
    },
    {
      "cell_type": "code",
      "execution_count": 56,
      "metadata": {
        "id": "cD0GjCaZ9ndH",
        "colab": {
          "base_uri": "https://localhost:8080/"
        },
        "outputId": "19251c0d-0df6-471c-990f-aef67984a809"
      },
      "outputs": [
        {
          "output_type": "stream",
          "name": "stdout",
          "text": [
            "Precisión del modelo RandomForestClassifier: 0.7519685039370079\n"
          ]
        }
      ],
      "source": [
        "# Separar características (X) y etiquetas (y)\n",
        "X_ = diabetes_no_escalado.drop('Diagnosis', axis=1)\n",
        "y_ = diabetes_no_escalado['Diagnosis']\n",
        "\n",
        "# Dividir el conjunto de datos en conjuntos de entrenamiento y prueba\n",
        "X_train_, X_test_, y_train_, y_test_ = train_test_split(X_, y_, test_size=0.33, random_state=42)\n",
        "\n",
        "# Crear el modelo RandomForestClassifier\n",
        "model = RandomForestClassifier(n_estimators=100, random_state=42)\n",
        "\n",
        "# Entrenar el modelo con los datos de entrenamiento\n",
        "model.fit(X_train_, y_train_)\n",
        "\n",
        "# Realizar predicciones en el conjunto de prueba\n",
        "y_pred_ = model.predict(X_test_)\n",
        "\n",
        "# Calcular la precisión del modelo\n",
        "accuracy = accuracy_score(y_test_, y_pred_)\n",
        "print(\"Precisión del modelo RandomForestClassifier:\", accuracy)"
      ]
    },
    {
      "cell_type": "markdown",
      "source": [
        "Los resultados obtenidos de la precisión de estos modelos quieren decir que el modelo es capaz de predecir correctamente el 75% de las instancias en el conjunto de prueba. La precisión es una medida de qué tan bien el modelo puede clasificar correctamente las muestras.\n",
        "En términos más simples, esto significa que de cada 100 instancias en el conjunto de prueba, el modelo predice correctamente aproximadamente 75 de ellas. Esto indica un rendimiento moderado en la capacidad de clasificación del modelo."
      ],
      "metadata": {
        "id": "SRoPuHFoEyRw"
      }
    }
  ],
  "metadata": {
    "kernelspec": {
      "display_name": "Python 3 (ipykernel)",
      "language": "python",
      "name": "python3"
    },
    "language_info": {
      "codemirror_mode": {
        "name": "ipython",
        "version": 3
      },
      "file_extension": ".py",
      "mimetype": "text/x-python",
      "name": "python",
      "nbconvert_exporter": "python",
      "pygments_lexer": "ipython3",
      "version": "3.8.16"
    },
    "latex_envs": {
      "LaTeX_envs_menu_present": true,
      "autoclose": false,
      "autocomplete": true,
      "bibliofile": "biblio.bib",
      "cite_by": "apalike",
      "current_citInitial": 1,
      "eqLabelWithNumbers": true,
      "eqNumInitial": 1,
      "hotkeys": {
        "equation": "Ctrl-E",
        "itemize": "Ctrl-I"
      },
      "labels_anchors": false,
      "latex_user_defs": false,
      "report_style_numbering": false,
      "user_envs_cfg": false
    },
    "nbTranslate": {
      "displayLangs": [
        "*"
      ],
      "hotkey": "alt-t",
      "langInMainMenu": true,
      "sourceLang": "en",
      "targetLang": "fr",
      "useGoogleTranslate": true
    },
    "toc": {
      "base_numbering": 1,
      "nav_menu": {},
      "number_sections": true,
      "sideBar": true,
      "skip_h1_title": false,
      "title_cell": "Table of Contents",
      "title_sidebar": "Contents",
      "toc_cell": true,
      "toc_position": {},
      "toc_section_display": true,
      "toc_window_display": false
    },
    "colab": {
      "provenance": []
    }
  },
  "nbformat": 4,
  "nbformat_minor": 0
}